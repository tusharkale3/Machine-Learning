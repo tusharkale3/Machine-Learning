{
 "cells": [
  {
   "cell_type": "code",
   "execution_count": 2,
   "id": "39ba3b36",
   "metadata": {},
   "outputs": [],
   "source": [
    "import pandas as pd\n",
    "import os\n",
    "os.chdir(\"D:\\CDAC\\PML\\Datasets\")\n",
    "from sklearn.linear_model import LinearRegression \n",
    "from sklearn.metrics import mean_squared_error, r2_score\n",
    "from sklearn.model_selection import KFold, cross_val_score\n",
    "from sklearn.preprocessing import PolynomialFeatures\n",
    "from sklearn.pipeline import Pipeline\n",
    "import numpy as np"
   ]
  },
  {
   "cell_type": "code",
   "execution_count": 3,
   "id": "0cb727fa",
   "metadata": {},
   "outputs": [
    {
     "data": {
      "text/plain": [
       "(506, 14)"
      ]
     },
     "execution_count": 3,
     "metadata": {},
     "output_type": "execute_result"
    }
   ],
   "source": [
    "boston = pd.read_csv(\"Boston.csv\")\n",
    "boston.shape"
   ]
  },
  {
   "cell_type": "code",
   "execution_count": 4,
   "id": "7a4e6ac1",
   "metadata": {},
   "outputs": [],
   "source": [
    "X = boston.drop('medv', axis=1)\n",
    "y = boston['medv']"
   ]
  },
  {
   "cell_type": "code",
   "execution_count": 5,
   "id": "850d5c55",
   "metadata": {},
   "outputs": [
    {
     "data": {
      "text/plain": [
       "array([0.74514306, 0.69363489, 0.73264725, 0.68377809, 0.73767041])"
      ]
     },
     "execution_count": 5,
     "metadata": {},
     "output_type": "execute_result"
    }
   ],
   "source": [
    "lr = LinearRegression()\n",
    "kfold = KFold(n_splits=5, shuffle=True, random_state=23)\n",
    "results = cross_val_score(lr, X, y, cv=kfold)\n",
    "results"
   ]
  },
  {
   "cell_type": "code",
   "execution_count": 6,
   "id": "a738538c",
   "metadata": {},
   "outputs": [
    {
     "data": {
      "text/plain": [
       "0.718574739923582"
      ]
     },
     "execution_count": 6,
     "metadata": {},
     "output_type": "execute_result"
    }
   ],
   "source": [
    "results.mean()"
   ]
  },
  {
   "cell_type": "markdown",
   "id": "8625d17e",
   "metadata": {},
   "source": [
    "degree = 2"
   ]
  },
  {
   "cell_type": "code",
   "execution_count": 7,
   "id": "1b09aac9",
   "metadata": {},
   "outputs": [
    {
     "data": {
      "text/plain": [
       "array([0.72242314, 0.83168531, 0.74203917, 0.85068021, 0.85340561])"
      ]
     },
     "execution_count": 7,
     "metadata": {},
     "output_type": "execute_result"
    }
   ],
   "source": [
    "poly = PolynomialFeatures(degree=2)\n",
    "lr = LinearRegression()\n",
    "pipe = Pipeline([('POLY',poly), ('LR', lr)])\n",
    "kfold = KFold(n_splits=5, shuffle=True, random_state=23)\n",
    "results = cross_val_score(pipe, X, y, cv=kfold)\n",
    "results"
   ]
  },
  {
   "cell_type": "code",
   "execution_count": 8,
   "id": "a75d16d3",
   "metadata": {},
   "outputs": [
    {
     "data": {
      "text/plain": [
       "0.8000466875131209"
      ]
     },
     "execution_count": 8,
     "metadata": {},
     "output_type": "execute_result"
    }
   ],
   "source": [
    "results.mean()"
   ]
  },
  {
   "cell_type": "code",
   "execution_count": 9,
   "id": "78c6aac2",
   "metadata": {},
   "outputs": [
    {
     "name": "stdout",
     "output_type": "stream",
     "text": [
      "{2: 0.8000466875131209, 3: -9071.292438992035, 4: -1978.9579616109731}\n",
      "Best Param: 2\n",
      "Best Score: 0.8000466875131209\n"
     ]
    }
   ],
   "source": [
    "dgs = [2,3,4]\n",
    "scores = []\n",
    "for d in dgs:\n",
    "    poly = PolynomialFeatures(degree=d)\n",
    "    lr = LinearRegression()\n",
    "    pipe = Pipeline([('POLY',poly), ('LR', lr)])\n",
    "    kfold = KFold(n_splits=5, shuffle=True, random_state=23)\n",
    "    results = cross_val_score(pipe, X, y, cv=kfold)\n",
    "    scores.append(results.mean())\n",
    "print(dict(zip(dgs, scores)))\n",
    "i_max = np.argmax(scores)\n",
    "print(\"Best Param:\", dgs[i_max])\n",
    "print(\"Best Score:\", scores[i_max])"
   ]
  },
  {
   "cell_type": "markdown",
   "id": "cfe28df2",
   "metadata": {},
   "source": [
    "### Grid Search CV"
   ]
  },
  {
   "cell_type": "code",
   "execution_count": 10,
   "id": "71ce4cd9",
   "metadata": {},
   "outputs": [],
   "source": [
    "from sklearn.model_selection import GridSearchCV \n",
    "poly = PolynomialFeatures()\n",
    "lr = LinearRegression()\n",
    "pipe = Pipeline([('POLY',poly), ('LR', lr)])\n",
    "params = {'POLY__degree': [2,3,4]}\n",
    "#print(pipe.get_params())"
   ]
  },
  {
   "cell_type": "code",
   "execution_count": 11,
   "id": "36dea440",
   "metadata": {},
   "outputs": [
    {
     "name": "stdout",
     "output_type": "stream",
     "text": [
      "0.8000466875131209\n",
      "{'POLY__degree': 2}\n"
     ]
    }
   ],
   "source": [
    "gcv = GridSearchCV(pipe, cv=kfold, param_grid=params)\n",
    "gcv.fit(X, y)\n",
    "print(gcv.best_score_)\n",
    "print(gcv.best_params_)"
   ]
  },
  {
   "cell_type": "markdown",
   "id": "62d472d3",
   "metadata": {},
   "source": [
    "#### Housing"
   ]
  },
  {
   "cell_type": "code",
   "execution_count": 12,
   "id": "a4fdb9a4",
   "metadata": {},
   "outputs": [],
   "source": [
    "hous = pd.read_csv(\"Housing.csv\")\n",
    "dum_hous = pd.get_dummies(hous, drop_first=True)\n",
    "X = dum_hous.drop('price', axis=1)\n",
    "y = dum_hous['price']"
   ]
  },
  {
   "cell_type": "code",
   "execution_count": 13,
   "id": "f080cbc7",
   "metadata": {},
   "outputs": [
    {
     "name": "stdout",
     "output_type": "stream",
     "text": [
      "0.5427161924430148\n",
      "{'POLY__degree': 2}\n"
     ]
    }
   ],
   "source": [
    "poly = PolynomialFeatures()\n",
    "lr = LinearRegression()\n",
    "pipe = Pipeline([('POLY',poly), ('LR', lr)])\n",
    "params = {'POLY__degree': [2,3,4]}\n",
    "gcv = GridSearchCV(pipe, cv=kfold, param_grid=params)\n",
    "gcv.fit(X, y)\n",
    "print(gcv.best_score_)\n",
    "print(gcv.best_params_)"
   ]
  }
 ],
 "metadata": {
  "kernelspec": {
   "display_name": "Python 3 (ipykernel)",
   "language": "python",
   "name": "python3"
  },
  "language_info": {
   "codemirror_mode": {
    "name": "ipython",
    "version": 3
   },
   "file_extension": ".py",
   "mimetype": "text/x-python",
   "name": "python",
   "nbconvert_exporter": "python",
   "pygments_lexer": "ipython3",
   "version": "3.10.2"
  }
 },
 "nbformat": 4,
 "nbformat_minor": 5
}
