{
 "cells": [
  {
   "cell_type": "code",
   "execution_count": null,
   "id": "5d4d1e00",
   "metadata": {},
   "outputs": [],
   "source": [
    "import pandas as pd\n",
    "import os\n",
    "os.chdir(\"C:/Training/Academy/Statistics (Python)/Cases/Concrete Strength\")\n",
    "from sklearn.linear_model import Ridge, Lasso, ElasticNet\n",
    "from sklearn.metrics import mean_squared_error, r2_score\n",
    "from sklearn.model_selection import train_test_split\n",
    "from sklearn.model_selection import KFold, GridSearchCV, cross_val_score\n",
    "import numpy as np"
   ]
  },
  {
   "cell_type": "code",
   "execution_count": null,
   "id": "64f7a71d",
   "metadata": {},
   "outputs": [],
   "source": [
    "conc = pd.read_csv(\"Concrete_Data.csv\")\n",
    "conc.head()"
   ]
  },
  {
   "cell_type": "code",
   "execution_count": null,
   "id": "b03c4e4c",
   "metadata": {},
   "outputs": [],
   "source": [
    "X = conc.drop('Strength', axis=1)\n",
    "y = conc['Strength']"
   ]
  },
  {
   "cell_type": "markdown",
   "id": "31afc504",
   "metadata": {},
   "source": [
    "### Lasso"
   ]
  },
  {
   "cell_type": "code",
   "execution_count": null,
   "id": "4a90e7fe",
   "metadata": {},
   "outputs": [],
   "source": [
    "lasso = Lasso()\n",
    "params = {'alpha': np.linspace(0.001, 10, 20)}\n",
    "kfold = KFold(n_splits=5, shuffle=True, random_state=23)\n",
    "gcv_ls = GridSearchCV(lasso, cv=kfold, param_grid=params)\n",
    "gcv_ls.fit(X, y)\n",
    "print(gcv_ls.best_params_)\n",
    "print(gcv_ls.best_score_)"
   ]
  },
  {
   "cell_type": "code",
   "execution_count": null,
   "id": "9a50c5bb",
   "metadata": {},
   "outputs": [],
   "source": [
    "best_lasso = gcv_ls.best_estimator_\n",
    "dict(zip(X.columns, best_lasso.coef_))"
   ]
  },
  {
   "cell_type": "markdown",
   "id": "3875ed3a",
   "metadata": {},
   "source": [
    "### Ridge"
   ]
  },
  {
   "cell_type": "code",
   "execution_count": null,
   "id": "5267bf83",
   "metadata": {},
   "outputs": [],
   "source": [
    "ridge = Ridge()\n",
    "params = {'alpha': np.linspace(0.001, 10, 20)}\n",
    "kfold = KFold(n_splits=5, shuffle=True, random_state=23)\n",
    "gcv = GridSearchCV(ridge, cv=kfold, param_grid=params)\n",
    "gcv.fit(X, y)\n",
    "print(gcv.best_params_)\n",
    "print(gcv.best_score_)"
   ]
  },
  {
   "cell_type": "markdown",
   "id": "8fd43f75",
   "metadata": {},
   "source": [
    "### Elastic Net"
   ]
  },
  {
   "cell_type": "code",
   "execution_count": 11,
   "id": "6257f109",
   "metadata": {},
   "outputs": [
    {
     "data": {
      "text/html": [
       "<style>#sk-container-id-2 {color: black;}#sk-container-id-2 pre{padding: 0;}#sk-container-id-2 div.sk-toggleable {background-color: white;}#sk-container-id-2 label.sk-toggleable__label {cursor: pointer;display: block;width: 100%;margin-bottom: 0;padding: 0.3em;box-sizing: border-box;text-align: center;}#sk-container-id-2 label.sk-toggleable__label-arrow:before {content: \"▸\";float: left;margin-right: 0.25em;color: #696969;}#sk-container-id-2 label.sk-toggleable__label-arrow:hover:before {color: black;}#sk-container-id-2 div.sk-estimator:hover label.sk-toggleable__label-arrow:before {color: black;}#sk-container-id-2 div.sk-toggleable__content {max-height: 0;max-width: 0;overflow: hidden;text-align: left;background-color: #f0f8ff;}#sk-container-id-2 div.sk-toggleable__content pre {margin: 0.2em;color: black;border-radius: 0.25em;background-color: #f0f8ff;}#sk-container-id-2 input.sk-toggleable__control:checked~div.sk-toggleable__content {max-height: 200px;max-width: 100%;overflow: auto;}#sk-container-id-2 input.sk-toggleable__control:checked~label.sk-toggleable__label-arrow:before {content: \"▾\";}#sk-container-id-2 div.sk-estimator input.sk-toggleable__control:checked~label.sk-toggleable__label {background-color: #d4ebff;}#sk-container-id-2 div.sk-label input.sk-toggleable__control:checked~label.sk-toggleable__label {background-color: #d4ebff;}#sk-container-id-2 input.sk-hidden--visually {border: 0;clip: rect(1px 1px 1px 1px);clip: rect(1px, 1px, 1px, 1px);height: 1px;margin: -1px;overflow: hidden;padding: 0;position: absolute;width: 1px;}#sk-container-id-2 div.sk-estimator {font-family: monospace;background-color: #f0f8ff;border: 1px dotted black;border-radius: 0.25em;box-sizing: border-box;margin-bottom: 0.5em;}#sk-container-id-2 div.sk-estimator:hover {background-color: #d4ebff;}#sk-container-id-2 div.sk-parallel-item::after {content: \"\";width: 100%;border-bottom: 1px solid gray;flex-grow: 1;}#sk-container-id-2 div.sk-label:hover label.sk-toggleable__label {background-color: #d4ebff;}#sk-container-id-2 div.sk-serial::before {content: \"\";position: absolute;border-left: 1px solid gray;box-sizing: border-box;top: 0;bottom: 0;left: 50%;z-index: 0;}#sk-container-id-2 div.sk-serial {display: flex;flex-direction: column;align-items: center;background-color: white;padding-right: 0.2em;padding-left: 0.2em;position: relative;}#sk-container-id-2 div.sk-item {position: relative;z-index: 1;}#sk-container-id-2 div.sk-parallel {display: flex;align-items: stretch;justify-content: center;background-color: white;position: relative;}#sk-container-id-2 div.sk-item::before, #sk-container-id-2 div.sk-parallel-item::before {content: \"\";position: absolute;border-left: 1px solid gray;box-sizing: border-box;top: 0;bottom: 0;left: 50%;z-index: -1;}#sk-container-id-2 div.sk-parallel-item {display: flex;flex-direction: column;z-index: 1;position: relative;background-color: white;}#sk-container-id-2 div.sk-parallel-item:first-child::after {align-self: flex-end;width: 50%;}#sk-container-id-2 div.sk-parallel-item:last-child::after {align-self: flex-start;width: 50%;}#sk-container-id-2 div.sk-parallel-item:only-child::after {width: 0;}#sk-container-id-2 div.sk-dashed-wrapped {border: 1px dashed gray;margin: 0 0.4em 0.5em 0.4em;box-sizing: border-box;padding-bottom: 0.4em;background-color: white;}#sk-container-id-2 div.sk-label label {font-family: monospace;font-weight: bold;display: inline-block;line-height: 1.2em;}#sk-container-id-2 div.sk-label-container {text-align: center;}#sk-container-id-2 div.sk-container {/* jupyter's `normalize.less` sets `[hidden] { display: none; }` but bootstrap.min.css set `[hidden] { display: none !important; }` so we also need the `!important` here to be able to override the default hidden behavior on the sphinx rendered scikit-learn.org. See: https://github.com/scikit-learn/scikit-learn/issues/21755 */display: inline-block !important;position: relative;}#sk-container-id-2 div.sk-text-repr-fallback {display: none;}</style><div id=\"sk-container-id-2\" class=\"sk-top-container\"><div class=\"sk-text-repr-fallback\"><pre>GridSearchCV(cv=KFold(n_splits=5, random_state=23, shuffle=True),\n",
       "             estimator=ElasticNet(),\n",
       "             param_grid={&#x27;alpha&#x27;: array([1.00000000e-03, 5.27263158e-01, 1.05352632e+00, 1.57978947e+00,\n",
       "       2.10605263e+00, 2.63231579e+00, 3.15857895e+00, 3.68484211e+00,\n",
       "       4.21110526e+00, 4.73736842e+00, 5.26363158e+00, 5.78989474e+00,\n",
       "       6.31615789e+00, 6.84242105e+00, 7.36868421e+00, 7.89494737e+00,\n",
       "       8.42121053e+00, 8.94747368e+00, 9.47373684e+00, 1.00000000e+01]),\n",
       "                         &#x27;l1_ratio&#x27;: array([0.001, 0.112, 0.223, 0.334, 0.445, 0.556, 0.667, 0.778, 0.889,\n",
       "       1.   ])})</pre><b>In a Jupyter environment, please rerun this cell to show the HTML representation or trust the notebook. <br />On GitHub, the HTML representation is unable to render, please try loading this page with nbviewer.org.</b></div><div class=\"sk-container\" hidden><div class=\"sk-item sk-dashed-wrapped\"><div class=\"sk-label-container\"><div class=\"sk-label sk-toggleable\"><input class=\"sk-toggleable__control sk-hidden--visually\" id=\"sk-estimator-id-4\" type=\"checkbox\" ><label for=\"sk-estimator-id-4\" class=\"sk-toggleable__label sk-toggleable__label-arrow\">GridSearchCV</label><div class=\"sk-toggleable__content\"><pre>GridSearchCV(cv=KFold(n_splits=5, random_state=23, shuffle=True),\n",
       "             estimator=ElasticNet(),\n",
       "             param_grid={&#x27;alpha&#x27;: array([1.00000000e-03, 5.27263158e-01, 1.05352632e+00, 1.57978947e+00,\n",
       "       2.10605263e+00, 2.63231579e+00, 3.15857895e+00, 3.68484211e+00,\n",
       "       4.21110526e+00, 4.73736842e+00, 5.26363158e+00, 5.78989474e+00,\n",
       "       6.31615789e+00, 6.84242105e+00, 7.36868421e+00, 7.89494737e+00,\n",
       "       8.42121053e+00, 8.94747368e+00, 9.47373684e+00, 1.00000000e+01]),\n",
       "                         &#x27;l1_ratio&#x27;: array([0.001, 0.112, 0.223, 0.334, 0.445, 0.556, 0.667, 0.778, 0.889,\n",
       "       1.   ])})</pre></div></div></div><div class=\"sk-parallel\"><div class=\"sk-parallel-item\"><div class=\"sk-item\"><div class=\"sk-label-container\"><div class=\"sk-label sk-toggleable\"><input class=\"sk-toggleable__control sk-hidden--visually\" id=\"sk-estimator-id-5\" type=\"checkbox\" ><label for=\"sk-estimator-id-5\" class=\"sk-toggleable__label sk-toggleable__label-arrow\">estimator: ElasticNet</label><div class=\"sk-toggleable__content\"><pre>ElasticNet()</pre></div></div></div><div class=\"sk-serial\"><div class=\"sk-item\"><div class=\"sk-estimator sk-toggleable\"><input class=\"sk-toggleable__control sk-hidden--visually\" id=\"sk-estimator-id-6\" type=\"checkbox\" ><label for=\"sk-estimator-id-6\" class=\"sk-toggleable__label sk-toggleable__label-arrow\">ElasticNet</label><div class=\"sk-toggleable__content\"><pre>ElasticNet()</pre></div></div></div></div></div></div></div></div></div></div>"
      ],
      "text/plain": [
       "GridSearchCV(cv=KFold(n_splits=5, random_state=23, shuffle=True),\n",
       "             estimator=ElasticNet(),\n",
       "             param_grid={'alpha': array([1.00000000e-03, 5.27263158e-01, 1.05352632e+00, 1.57978947e+00,\n",
       "       2.10605263e+00, 2.63231579e+00, 3.15857895e+00, 3.68484211e+00,\n",
       "       4.21110526e+00, 4.73736842e+00, 5.26363158e+00, 5.78989474e+00,\n",
       "       6.31615789e+00, 6.84242105e+00, 7.36868421e+00, 7.89494737e+00,\n",
       "       8.42121053e+00, 8.94747368e+00, 9.47373684e+00, 1.00000000e+01]),\n",
       "                         'l1_ratio': array([0.001, 0.112, 0.223, 0.334, 0.445, 0.556, 0.667, 0.778, 0.889,\n",
       "       1.   ])})"
      ]
     },
     "execution_count": 11,
     "metadata": {},
     "output_type": "execute_result"
    }
   ],
   "source": [
    "elastic = ElasticNet()\n",
    "params = {'alpha': np.linspace(0.001, 10, 20),\n",
    "         'l1_ratio': np.linspace(0.001, 1, 10)}\n",
    "gcv_el = GridSearchCV(elastic, cv=kfold, param_grid=params)\n",
    "gcv_el.fit(X, y)"
   ]
  },
  {
   "cell_type": "code",
   "execution_count": 12,
   "id": "d93e8976",
   "metadata": {},
   "outputs": [
    {
     "data": {
      "text/plain": [
       "{'Cement': 0.12027497430702458,\n",
       " 'Blast': 0.10431868084659245,\n",
       " 'Fly': 0.08994092763926334,\n",
       " 'Water': -0.16294923538376035,\n",
       " 'Superplasticizer': 0.21451973552294334,\n",
       " 'Coarse': 0.01596050378046783,\n",
       " 'Fine': 0.01965559086470516,\n",
       " 'Age': 0.1140407428392629}"
      ]
     },
     "execution_count": 12,
     "metadata": {},
     "output_type": "execute_result"
    }
   ],
   "source": [
    "best_el = gcv_el.best_estimator_\n",
    "dict(zip(X.columns, best_el.coef_))"
   ]
  },
  {
   "cell_type": "code",
   "execution_count": 13,
   "id": "98f2abf9",
   "metadata": {},
   "outputs": [
    {
     "name": "stdout",
     "output_type": "stream",
     "text": [
      "{'alpha': 5.263631578947369, 'l1_ratio': 0.001}\n",
      "0.6006428488483886\n"
     ]
    }
   ],
   "source": [
    "print(gcv_el.best_params_)\n",
    "print(gcv_el.best_score_)"
   ]
  },
  {
   "cell_type": "code",
   "execution_count": 14,
   "id": "67d47d41",
   "metadata": {},
   "outputs": [
    {
     "data": {
      "text/plain": [
       "(-18.26753597462733,\n",
       " array([ 0.12027497,  0.10431868,  0.08994093, -0.16294924,  0.21451974,\n",
       "         0.0159605 ,  0.01965559,  0.11404074]))"
      ]
     },
     "execution_count": 14,
     "metadata": {},
     "output_type": "execute_result"
    }
   ],
   "source": [
    "best_el.intercept_, best_el.coef_"
   ]
  },
  {
   "cell_type": "markdown",
   "id": "c4a950a0",
   "metadata": {},
   "source": [
    "### Inferencing"
   ]
  },
  {
   "cell_type": "markdown",
   "id": "81515493",
   "metadata": {},
   "source": [
    "#### UnLabeled Data"
   ]
  },
  {
   "cell_type": "code",
   "execution_count": 16,
   "id": "937627fd",
   "metadata": {},
   "outputs": [
    {
     "data": {
      "text/html": [
       "<div>\n",
       "<style scoped>\n",
       "    .dataframe tbody tr th:only-of-type {\n",
       "        vertical-align: middle;\n",
       "    }\n",
       "\n",
       "    .dataframe tbody tr th {\n",
       "        vertical-align: top;\n",
       "    }\n",
       "\n",
       "    .dataframe thead th {\n",
       "        text-align: right;\n",
       "    }\n",
       "</style>\n",
       "<table border=\"1\" class=\"dataframe\">\n",
       "  <thead>\n",
       "    <tr style=\"text-align: right;\">\n",
       "      <th></th>\n",
       "      <th>Cement</th>\n",
       "      <th>Blast</th>\n",
       "      <th>Fly</th>\n",
       "      <th>Water</th>\n",
       "      <th>Superplasticizer</th>\n",
       "      <th>Coarse</th>\n",
       "      <th>Fine</th>\n",
       "      <th>Age</th>\n",
       "    </tr>\n",
       "  </thead>\n",
       "  <tbody>\n",
       "    <tr>\n",
       "      <th>0</th>\n",
       "      <td>495</td>\n",
       "      <td>120</td>\n",
       "      <td>0</td>\n",
       "      <td>155</td>\n",
       "      <td>5</td>\n",
       "      <td>866</td>\n",
       "      <td>884</td>\n",
       "      <td>75</td>\n",
       "    </tr>\n",
       "    <tr>\n",
       "      <th>1</th>\n",
       "      <td>262</td>\n",
       "      <td>129</td>\n",
       "      <td>0</td>\n",
       "      <td>271</td>\n",
       "      <td>2</td>\n",
       "      <td>808</td>\n",
       "      <td>787</td>\n",
       "      <td>174</td>\n",
       "    </tr>\n",
       "    <tr>\n",
       "      <th>2</th>\n",
       "      <td>201</td>\n",
       "      <td>48</td>\n",
       "      <td>1</td>\n",
       "      <td>215</td>\n",
       "      <td>5</td>\n",
       "      <td>807</td>\n",
       "      <td>839</td>\n",
       "      <td>113</td>\n",
       "    </tr>\n",
       "  </tbody>\n",
       "</table>\n",
       "</div>"
      ],
      "text/plain": [
       "   Cement  Blast  Fly  Water  Superplasticizer  Coarse  Fine  Age\n",
       "0     495    120    0    155                 5     866   884   75\n",
       "1     262    129    0    271                 2     808   787  174\n",
       "2     201     48    1    215                 5     807   839  113"
      ]
     },
     "execution_count": 16,
     "metadata": {},
     "output_type": "execute_result"
    }
   ],
   "source": [
    "tst = pd.read_csv(\"testConcrete.csv\")\n",
    "tst.head(3)"
   ]
  },
  {
   "cell_type": "code",
   "execution_count": 18,
   "id": "8fc30501",
   "metadata": {},
   "outputs": [
    {
     "data": {
      "text/html": [
       "<div>\n",
       "<style scoped>\n",
       "    .dataframe tbody tr th:only-of-type {\n",
       "        vertical-align: middle;\n",
       "    }\n",
       "\n",
       "    .dataframe tbody tr th {\n",
       "        vertical-align: top;\n",
       "    }\n",
       "\n",
       "    .dataframe thead th {\n",
       "        text-align: right;\n",
       "    }\n",
       "</style>\n",
       "<table border=\"1\" class=\"dataframe\">\n",
       "  <thead>\n",
       "    <tr style=\"text-align: right;\">\n",
       "      <th></th>\n",
       "      <th>Cement</th>\n",
       "      <th>Blast</th>\n",
       "      <th>Fly</th>\n",
       "      <th>Water</th>\n",
       "      <th>Superplasticizer</th>\n",
       "      <th>Coarse</th>\n",
       "      <th>Fine</th>\n",
       "      <th>Age</th>\n",
       "      <th>Pred_Strength</th>\n",
       "    </tr>\n",
       "  </thead>\n",
       "  <tbody>\n",
       "    <tr>\n",
       "      <th>0</th>\n",
       "      <td>495</td>\n",
       "      <td>120</td>\n",
       "      <td>0</td>\n",
       "      <td>155</td>\n",
       "      <td>5</td>\n",
       "      <td>866</td>\n",
       "      <td>884</td>\n",
       "      <td>75</td>\n",
       "      <td>69.352680</td>\n",
       "    </tr>\n",
       "    <tr>\n",
       "      <th>1</th>\n",
       "      <td>262</td>\n",
       "      <td>129</td>\n",
       "      <td>0</td>\n",
       "      <td>271</td>\n",
       "      <td>2</td>\n",
       "      <td>808</td>\n",
       "      <td>787</td>\n",
       "      <td>174</td>\n",
       "      <td>31.179540</td>\n",
       "    </tr>\n",
       "    <tr>\n",
       "      <th>2</th>\n",
       "      <td>201</td>\n",
       "      <td>48</td>\n",
       "      <td>1</td>\n",
       "      <td>215</td>\n",
       "      <td>5</td>\n",
       "      <td>807</td>\n",
       "      <td>839</td>\n",
       "      <td>113</td>\n",
       "      <td>19.301256</td>\n",
       "    </tr>\n",
       "    <tr>\n",
       "      <th>3</th>\n",
       "      <td>329</td>\n",
       "      <td>141</td>\n",
       "      <td>0</td>\n",
       "      <td>286</td>\n",
       "      <td>1</td>\n",
       "      <td>881</td>\n",
       "      <td>823</td>\n",
       "      <td>229</td>\n",
       "      <td>45.975988</td>\n",
       "    </tr>\n",
       "    <tr>\n",
       "      <th>4</th>\n",
       "      <td>354</td>\n",
       "      <td>14</td>\n",
       "      <td>0</td>\n",
       "      <td>129</td>\n",
       "      <td>2</td>\n",
       "      <td>839</td>\n",
       "      <td>847</td>\n",
       "      <td>210</td>\n",
       "      <td>59.166559</td>\n",
       "    </tr>\n",
       "    <tr>\n",
       "      <th>5</th>\n",
       "      <td>150</td>\n",
       "      <td>23</td>\n",
       "      <td>23</td>\n",
       "      <td>114</td>\n",
       "      <td>4</td>\n",
       "      <td>883</td>\n",
       "      <td>638</td>\n",
       "      <td>36</td>\n",
       "      <td>17.262406</td>\n",
       "    </tr>\n",
       "    <tr>\n",
       "      <th>6</th>\n",
       "      <td>480</td>\n",
       "      <td>64</td>\n",
       "      <td>0</td>\n",
       "      <td>292</td>\n",
       "      <td>3</td>\n",
       "      <td>896</td>\n",
       "      <td>776</td>\n",
       "      <td>180</td>\n",
       "      <td>49.283913</td>\n",
       "    </tr>\n",
       "    <tr>\n",
       "      <th>7</th>\n",
       "      <td>393</td>\n",
       "      <td>49</td>\n",
       "      <td>82</td>\n",
       "      <td>132</td>\n",
       "      <td>1</td>\n",
       "      <td>887</td>\n",
       "      <td>830</td>\n",
       "      <td>271</td>\n",
       "      <td>81.568670</td>\n",
       "    </tr>\n",
       "    <tr>\n",
       "      <th>8</th>\n",
       "      <td>284</td>\n",
       "      <td>63</td>\n",
       "      <td>1</td>\n",
       "      <td>138</td>\n",
       "      <td>1</td>\n",
       "      <td>804</td>\n",
       "      <td>725</td>\n",
       "      <td>44</td>\n",
       "      <td>32.380441</td>\n",
       "    </tr>\n",
       "    <tr>\n",
       "      <th>9</th>\n",
       "      <td>206</td>\n",
       "      <td>38</td>\n",
       "      <td>0</td>\n",
       "      <td>103</td>\n",
       "      <td>2</td>\n",
       "      <td>818</td>\n",
       "      <td>719</td>\n",
       "      <td>191</td>\n",
       "      <td>43.088331</td>\n",
       "    </tr>\n",
       "    <tr>\n",
       "      <th>10</th>\n",
       "      <td>247</td>\n",
       "      <td>64</td>\n",
       "      <td>26</td>\n",
       "      <td>175</td>\n",
       "      <td>2</td>\n",
       "      <td>822</td>\n",
       "      <td>898</td>\n",
       "      <td>183</td>\n",
       "      <td>44.007876</td>\n",
       "    </tr>\n",
       "    <tr>\n",
       "      <th>11</th>\n",
       "      <td>223</td>\n",
       "      <td>102</td>\n",
       "      <td>0</td>\n",
       "      <td>110</td>\n",
       "      <td>2</td>\n",
       "      <td>808</td>\n",
       "      <td>854</td>\n",
       "      <td>270</td>\n",
       "      <td>62.171875</td>\n",
       "    </tr>\n",
       "    <tr>\n",
       "      <th>12</th>\n",
       "      <td>457</td>\n",
       "      <td>89</td>\n",
       "      <td>0</td>\n",
       "      <td>289</td>\n",
       "      <td>3</td>\n",
       "      <td>829</td>\n",
       "      <td>865</td>\n",
       "      <td>190</td>\n",
       "      <td>51.434805</td>\n",
       "    </tr>\n",
       "    <tr>\n",
       "      <th>13</th>\n",
       "      <td>125</td>\n",
       "      <td>93</td>\n",
       "      <td>0</td>\n",
       "      <td>200</td>\n",
       "      <td>5</td>\n",
       "      <td>893</td>\n",
       "      <td>671</td>\n",
       "      <td>113</td>\n",
       "      <td>15.279460</td>\n",
       "    </tr>\n",
       "  </tbody>\n",
       "</table>\n",
       "</div>"
      ],
      "text/plain": [
       "    Cement  Blast  Fly  Water  Superplasticizer  Coarse  Fine  Age  \\\n",
       "0      495    120    0    155                 5     866   884   75   \n",
       "1      262    129    0    271                 2     808   787  174   \n",
       "2      201     48    1    215                 5     807   839  113   \n",
       "3      329    141    0    286                 1     881   823  229   \n",
       "4      354     14    0    129                 2     839   847  210   \n",
       "5      150     23   23    114                 4     883   638   36   \n",
       "6      480     64    0    292                 3     896   776  180   \n",
       "7      393     49   82    132                 1     887   830  271   \n",
       "8      284     63    1    138                 1     804   725   44   \n",
       "9      206     38    0    103                 2     818   719  191   \n",
       "10     247     64   26    175                 2     822   898  183   \n",
       "11     223    102    0    110                 2     808   854  270   \n",
       "12     457     89    0    289                 3     829   865  190   \n",
       "13     125     93    0    200                 5     893   671  113   \n",
       "\n",
       "    Pred_Strength  \n",
       "0       69.352680  \n",
       "1       31.179540  \n",
       "2       19.301256  \n",
       "3       45.975988  \n",
       "4       59.166559  \n",
       "5       17.262406  \n",
       "6       49.283913  \n",
       "7       81.568670  \n",
       "8       32.380441  \n",
       "9       43.088331  \n",
       "10      44.007876  \n",
       "11      62.171875  \n",
       "12      51.434805  \n",
       "13      15.279460  "
      ]
     },
     "execution_count": 18,
     "metadata": {},
     "output_type": "execute_result"
    }
   ],
   "source": [
    "tst['Pred_Strength'] = gcv_el.predict(tst)\n",
    "tst"
   ]
  }
 ],
 "metadata": {
  "kernelspec": {
   "display_name": "Python 3 (ipykernel)",
   "language": "python",
   "name": "python3"
  },
  "language_info": {
   "codemirror_mode": {
    "name": "ipython",
    "version": 3
   },
   "file_extension": ".py",
   "mimetype": "text/x-python",
   "name": "python",
   "nbconvert_exporter": "python",
   "pygments_lexer": "ipython3",
   "version": "3.11.5"
  }
 },
 "nbformat": 4,
 "nbformat_minor": 5
}
