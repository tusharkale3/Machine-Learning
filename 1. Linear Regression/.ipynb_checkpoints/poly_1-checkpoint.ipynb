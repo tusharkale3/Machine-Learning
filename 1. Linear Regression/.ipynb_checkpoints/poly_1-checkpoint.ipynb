{
 "cells": [
  {
   "cell_type": "code",
   "execution_count": 1,
   "id": "6a4e13e8",
   "metadata": {},
   "outputs": [],
   "source": [
    "import pandas as pd\n",
    "import os\n",
    "os.chdir(\"D:\\CDAC\\PML\\Datasets\")\n",
    "from sklearn.linear_model import LinearRegression \n",
    "from sklearn.metrics import mean_squared_error, r2_score"
   ]
  },
  {
   "cell_type": "code",
   "execution_count": 2,
   "id": "b3b6279a",
   "metadata": {},
   "outputs": [
    {
     "data": {
      "text/html": [
       "<div>\n",
       "<style scoped>\n",
       "    .dataframe tbody tr th:only-of-type {\n",
       "        vertical-align: middle;\n",
       "    }\n",
       "\n",
       "    .dataframe tbody tr th {\n",
       "        vertical-align: top;\n",
       "    }\n",
       "\n",
       "    .dataframe thead th {\n",
       "        text-align: right;\n",
       "    }\n",
       "</style>\n",
       "<table border=\"1\" class=\"dataframe\">\n",
       "  <thead>\n",
       "    <tr style=\"text-align: right;\">\n",
       "      <th></th>\n",
       "      <th>crim</th>\n",
       "      <th>zn</th>\n",
       "      <th>indus</th>\n",
       "      <th>chas</th>\n",
       "      <th>nox</th>\n",
       "      <th>rm</th>\n",
       "      <th>age</th>\n",
       "      <th>dis</th>\n",
       "      <th>rad</th>\n",
       "      <th>tax</th>\n",
       "      <th>ptratio</th>\n",
       "      <th>black</th>\n",
       "      <th>lstat</th>\n",
       "      <th>medv</th>\n",
       "    </tr>\n",
       "  </thead>\n",
       "  <tbody>\n",
       "    <tr>\n",
       "      <th>0</th>\n",
       "      <td>0.00632</td>\n",
       "      <td>18.0</td>\n",
       "      <td>2.31</td>\n",
       "      <td>0</td>\n",
       "      <td>0.538</td>\n",
       "      <td>6.575</td>\n",
       "      <td>65.2</td>\n",
       "      <td>4.0900</td>\n",
       "      <td>1</td>\n",
       "      <td>296</td>\n",
       "      <td>15.3</td>\n",
       "      <td>396.90</td>\n",
       "      <td>4.98</td>\n",
       "      <td>24.0</td>\n",
       "    </tr>\n",
       "    <tr>\n",
       "      <th>1</th>\n",
       "      <td>0.02731</td>\n",
       "      <td>0.0</td>\n",
       "      <td>7.07</td>\n",
       "      <td>0</td>\n",
       "      <td>0.469</td>\n",
       "      <td>6.421</td>\n",
       "      <td>78.9</td>\n",
       "      <td>4.9671</td>\n",
       "      <td>2</td>\n",
       "      <td>242</td>\n",
       "      <td>17.8</td>\n",
       "      <td>396.90</td>\n",
       "      <td>9.14</td>\n",
       "      <td>21.6</td>\n",
       "    </tr>\n",
       "    <tr>\n",
       "      <th>2</th>\n",
       "      <td>0.02729</td>\n",
       "      <td>0.0</td>\n",
       "      <td>7.07</td>\n",
       "      <td>0</td>\n",
       "      <td>0.469</td>\n",
       "      <td>7.185</td>\n",
       "      <td>61.1</td>\n",
       "      <td>4.9671</td>\n",
       "      <td>2</td>\n",
       "      <td>242</td>\n",
       "      <td>17.8</td>\n",
       "      <td>392.83</td>\n",
       "      <td>4.03</td>\n",
       "      <td>34.7</td>\n",
       "    </tr>\n",
       "    <tr>\n",
       "      <th>3</th>\n",
       "      <td>0.03237</td>\n",
       "      <td>0.0</td>\n",
       "      <td>2.18</td>\n",
       "      <td>0</td>\n",
       "      <td>0.458</td>\n",
       "      <td>6.998</td>\n",
       "      <td>45.8</td>\n",
       "      <td>6.0622</td>\n",
       "      <td>3</td>\n",
       "      <td>222</td>\n",
       "      <td>18.7</td>\n",
       "      <td>394.63</td>\n",
       "      <td>2.94</td>\n",
       "      <td>33.4</td>\n",
       "    </tr>\n",
       "    <tr>\n",
       "      <th>4</th>\n",
       "      <td>0.06905</td>\n",
       "      <td>0.0</td>\n",
       "      <td>2.18</td>\n",
       "      <td>0</td>\n",
       "      <td>0.458</td>\n",
       "      <td>7.147</td>\n",
       "      <td>54.2</td>\n",
       "      <td>6.0622</td>\n",
       "      <td>3</td>\n",
       "      <td>222</td>\n",
       "      <td>18.7</td>\n",
       "      <td>396.90</td>\n",
       "      <td>5.33</td>\n",
       "      <td>36.2</td>\n",
       "    </tr>\n",
       "  </tbody>\n",
       "</table>\n",
       "</div>"
      ],
      "text/plain": [
       "      crim    zn  indus  chas    nox     rm   age     dis  rad  tax  ptratio  \\\n",
       "0  0.00632  18.0   2.31     0  0.538  6.575  65.2  4.0900    1  296     15.3   \n",
       "1  0.02731   0.0   7.07     0  0.469  6.421  78.9  4.9671    2  242     17.8   \n",
       "2  0.02729   0.0   7.07     0  0.469  7.185  61.1  4.9671    2  242     17.8   \n",
       "3  0.03237   0.0   2.18     0  0.458  6.998  45.8  6.0622    3  222     18.7   \n",
       "4  0.06905   0.0   2.18     0  0.458  7.147  54.2  6.0622    3  222     18.7   \n",
       "\n",
       "    black  lstat  medv  \n",
       "0  396.90   4.98  24.0  \n",
       "1  396.90   9.14  21.6  \n",
       "2  392.83   4.03  34.7  \n",
       "3  394.63   2.94  33.4  \n",
       "4  396.90   5.33  36.2  "
      ]
     },
     "execution_count": 2,
     "metadata": {},
     "output_type": "execute_result"
    }
   ],
   "source": [
    "boston = pd.read_csv(\"Boston.csv\")\n",
    "boston.head()"
   ]
  },
  {
   "cell_type": "code",
   "execution_count": 3,
   "id": "4de79217",
   "metadata": {},
   "outputs": [
    {
     "name": "stdout",
     "output_type": "stream",
     "text": [
      "38.48296722989415\n"
     ]
    }
   ],
   "source": [
    "y = boston['medv']\n",
    "X = boston[['lstat']]\n",
    "lr = LinearRegression()\n",
    "lr.fit(X, y)\n",
    "ycap = lr.predict(X)\n",
    "print(mean_squared_error(y, ycap))"
   ]
  },
  {
   "cell_type": "code",
   "execution_count": 4,
   "id": "35f6940a",
   "metadata": {},
   "outputs": [
    {
     "data": {
      "text/plain": [
       "(34.5538408793831, array([-0.95004935]))"
      ]
     },
     "execution_count": 4,
     "metadata": {},
     "output_type": "execute_result"
    }
   ],
   "source": [
    "lr.intercept_, lr.coef_"
   ]
  },
  {
   "cell_type": "code",
   "execution_count": 5,
   "id": "f01e6e1f",
   "metadata": {},
   "outputs": [
    {
     "name": "stdout",
     "output_type": "stream",
     "text": [
      "0.5441462975864797\n"
     ]
    }
   ],
   "source": [
    "print(r2_score(y, ycap))"
   ]
  },
  {
   "cell_type": "code",
   "execution_count": 6,
   "id": "a6c5a0cb",
   "metadata": {},
   "outputs": [],
   "source": [
    "x1 = boston['lstat']\n",
    "x2 = boston['lstat']**2"
   ]
  },
  {
   "cell_type": "code",
   "execution_count": 7,
   "id": "7f3884d4",
   "metadata": {},
   "outputs": [
    {
     "data": {
      "text/plain": [
       "(42.862007328169334, array([-2.3328211 ,  0.04354689]))"
      ]
     },
     "execution_count": 7,
     "metadata": {},
     "output_type": "execute_result"
    }
   ],
   "source": [
    "X = pd.concat([x1, x2], axis=1)\n",
    "X.columns = ['x','x**2']\n",
    "lr.fit(X, y)\n",
    "lr.intercept_, lr.coef_"
   ]
  },
  {
   "cell_type": "markdown",
   "id": "94c64cb4",
   "metadata": {},
   "source": [
    "## OR"
   ]
  },
  {
   "cell_type": "code",
   "execution_count": 8,
   "id": "df963259",
   "metadata": {},
   "outputs": [
    {
     "data": {
      "text/plain": [
       "(42.862007328169284, array([ 0.        , -2.3328211 ,  0.04354689]))"
      ]
     },
     "execution_count": 8,
     "metadata": {},
     "output_type": "execute_result"
    }
   ],
   "source": [
    "from sklearn.preprocessing import PolynomialFeatures\n",
    "poly = PolynomialFeatures(degree=2)\n",
    "y = boston['medv']\n",
    "X = boston[['lstat']] \n",
    "X_poly = poly.fit_transform(X)\n",
    "lr = LinearRegression()\n",
    "lr.fit(X_poly, y)\n",
    "lr.intercept_, lr.coef_"
   ]
  },
  {
   "cell_type": "code",
   "execution_count": 9,
   "id": "956445fe",
   "metadata": {},
   "outputs": [
    {
     "name": "stdout",
     "output_type": "stream",
     "text": [
      "30.330520075853716\n"
     ]
    }
   ],
   "source": [
    "ycap = lr.predict(X_poly)\n",
    "print(mean_squared_error(y, ycap))"
   ]
  },
  {
   "cell_type": "code",
   "execution_count": 10,
   "id": "88b3889b",
   "metadata": {},
   "outputs": [
    {
     "name": "stdout",
     "output_type": "stream",
     "text": [
      "0.6407168971636611\n"
     ]
    }
   ],
   "source": [
    "print(r2_score(y, ycap))"
   ]
  },
  {
   "cell_type": "code",
   "execution_count": 11,
   "id": "829d491a",
   "metadata": {},
   "outputs": [
    {
     "data": {
      "text/plain": [
       "(48.64962534156659,\n",
       " array([ 0.00000000e+00, -3.86559278e+00,  1.48738477e-01, -2.00386767e-03]))"
      ]
     },
     "execution_count": 11,
     "metadata": {},
     "output_type": "execute_result"
    }
   ],
   "source": [
    "from sklearn.preprocessing import PolynomialFeatures\n",
    "poly = PolynomialFeatures(degree=3)\n",
    "y = boston['medv']\n",
    "X = boston[['lstat']] \n",
    "X_poly = poly.fit_transform(X)\n",
    "lr = LinearRegression()\n",
    "lr.fit(X_poly, y)\n",
    "lr.intercept_, lr.coef_"
   ]
  },
  {
   "cell_type": "code",
   "execution_count": 12,
   "id": "7eff0782",
   "metadata": {},
   "outputs": [
    {
     "data": {
      "text/plain": [
       "array(['1', 'lstat', 'lstat^2', 'lstat^3'], dtype=object)"
      ]
     },
     "execution_count": 12,
     "metadata": {},
     "output_type": "execute_result"
    }
   ],
   "source": [
    "poly.get_feature_names_out()"
   ]
  },
  {
   "cell_type": "code",
   "execution_count": 13,
   "id": "748f7aca",
   "metadata": {},
   "outputs": [
    {
     "name": "stdout",
     "output_type": "stream",
     "text": [
      "28.884350319213173\n"
     ]
    }
   ],
   "source": [
    "ycap = lr.predict(X_poly)\n",
    "print(mean_squared_error(y, ycap))"
   ]
  },
  {
   "cell_type": "code",
   "execution_count": 14,
   "id": "c28dd4f9",
   "metadata": {},
   "outputs": [
    {
     "name": "stdout",
     "output_type": "stream",
     "text": [
      "0.6578476405895719\n"
     ]
    }
   ],
   "source": [
    "print(r2_score(y, ycap))"
   ]
  },
  {
   "cell_type": "code",
   "execution_count": 15,
   "id": "d0456ab4",
   "metadata": {},
   "outputs": [
    {
     "data": {
      "text/plain": [
       "Index(['crim', 'zn', 'indus', 'chas', 'nox', 'rm', 'age', 'dis', 'rad', 'tax',\n",
       "       'ptratio', 'black', 'lstat', 'medv'],\n",
       "      dtype='object')"
      ]
     },
     "execution_count": 15,
     "metadata": {},
     "output_type": "execute_result"
    }
   ],
   "source": [
    "boston.columns"
   ]
  },
  {
   "cell_type": "code",
   "execution_count": 16,
   "id": "09e280e8",
   "metadata": {},
   "outputs": [],
   "source": [
    "X = boston[['lstat','dis']]\n",
    "y = boston['medv']"
   ]
  },
  {
   "cell_type": "code",
   "execution_count": 17,
   "id": "a9fb52bb",
   "metadata": {},
   "outputs": [
    {
     "name": "stdout",
     "output_type": "stream",
     "text": [
      "36.956482013451534\n"
     ]
    }
   ],
   "source": [
    "lr = LinearRegression()\n",
    "lr.fit(X, y)\n",
    "ycap = lr.predict(X)\n",
    "print(mean_squared_error(y, ycap))"
   ]
  },
  {
   "cell_type": "code",
   "execution_count": 18,
   "id": "e701fa43",
   "metadata": {},
   "outputs": [
    {
     "name": "stdout",
     "output_type": "stream",
     "text": [
      "0.5622284255429311\n"
     ]
    }
   ],
   "source": [
    "print(r2_score(y, ycap))"
   ]
  },
  {
   "cell_type": "markdown",
   "id": "1399bddc",
   "metadata": {},
   "source": [
    "Degree = 2"
   ]
  },
  {
   "cell_type": "code",
   "execution_count": 19,
   "id": "5099135d",
   "metadata": {},
   "outputs": [
    {
     "data": {
      "text/plain": [
       "array(['1', 'lstat', 'dis', 'lstat^2', 'lstat dis', 'dis^2'], dtype=object)"
      ]
     },
     "execution_count": 19,
     "metadata": {},
     "output_type": "execute_result"
    }
   ],
   "source": [
    "poly = PolynomialFeatures(degree=2)\n",
    "X_poly = poly.fit_transform(X)\n",
    "poly.get_feature_names_out()"
   ]
  },
  {
   "cell_type": "code",
   "execution_count": 20,
   "id": "791bd25f",
   "metadata": {},
   "outputs": [
    {
     "name": "stdout",
     "output_type": "stream",
     "text": [
      "25.23519417716931\n"
     ]
    }
   ],
   "source": [
    "lr = LinearRegression()\n",
    "lr.fit(X_poly, y)\n",
    "ycap = lr.predict(X_poly)\n",
    "print(mean_squared_error(y, ycap))"
   ]
  },
  {
   "cell_type": "code",
   "execution_count": 21,
   "id": "6fc77c95",
   "metadata": {},
   "outputs": [
    {
     "name": "stdout",
     "output_type": "stream",
     "text": [
      "0.7010740718597552\n"
     ]
    }
   ],
   "source": [
    "print(r2_score(y, ycap))"
   ]
  },
  {
   "cell_type": "markdown",
   "id": "553a8921",
   "metadata": {},
   "source": [
    "degree = 3"
   ]
  },
  {
   "cell_type": "code",
   "execution_count": 22,
   "id": "694b345e",
   "metadata": {},
   "outputs": [
    {
     "data": {
      "text/plain": [
       "array(['1', 'lstat', 'dis', 'lstat^2', 'lstat dis', 'dis^2', 'lstat^3',\n",
       "       'lstat^2 dis', 'lstat dis^2', 'dis^3'], dtype=object)"
      ]
     },
     "execution_count": 22,
     "metadata": {},
     "output_type": "execute_result"
    }
   ],
   "source": [
    "poly = PolynomialFeatures(degree=3)\n",
    "X_poly = poly.fit_transform(X)\n",
    "poly.get_feature_names_out()"
   ]
  },
  {
   "cell_type": "code",
   "execution_count": 23,
   "id": "b17d155e",
   "metadata": {},
   "outputs": [
    {
     "name": "stdout",
     "output_type": "stream",
     "text": [
      "23.146240187052502\n"
     ]
    }
   ],
   "source": [
    "lr = LinearRegression()\n",
    "lr.fit(X_poly, y)\n",
    "ycap = lr.predict(X_poly)\n",
    "print(mean_squared_error(y, ycap))"
   ]
  },
  {
   "cell_type": "code",
   "execution_count": 24,
   "id": "37f034c5",
   "metadata": {},
   "outputs": [
    {
     "name": "stdout",
     "output_type": "stream",
     "text": [
      "0.7258189779600965\n"
     ]
    }
   ],
   "source": [
    "print(r2_score(y, ycap))"
   ]
  },
  {
   "cell_type": "markdown",
   "id": "c6ee6b14",
   "metadata": {},
   "source": [
    "## All Features"
   ]
  },
  {
   "cell_type": "code",
   "execution_count": 25,
   "id": "1f1d09bd",
   "metadata": {},
   "outputs": [],
   "source": [
    "X = boston.drop('medv', axis=1)\n",
    "y = boston['medv']"
   ]
  },
  {
   "cell_type": "code",
   "execution_count": 26,
   "id": "3de59979",
   "metadata": {},
   "outputs": [
    {
     "name": "stdout",
     "output_type": "stream",
     "text": [
      "21.894831181729206\n",
      "0.7406426641094094\n"
     ]
    }
   ],
   "source": [
    "lr.fit(X, y)\n",
    "ycap = lr.predict(X)\n",
    "print(mean_squared_error(y, ycap))\n",
    "print(r2_score(y, ycap))"
   ]
  },
  {
   "cell_type": "markdown",
   "id": "f0870c29",
   "metadata": {},
   "source": [
    "degree = 2"
   ]
  },
  {
   "cell_type": "code",
   "execution_count": 27,
   "id": "d6269737",
   "metadata": {},
   "outputs": [
    {
     "name": "stdout",
     "output_type": "stream",
     "text": [
      "6.416168564633436\n",
      "0.9239966560264268\n"
     ]
    }
   ],
   "source": [
    "poly = PolynomialFeatures(degree = 2)\n",
    "X_poly = poly.fit_transform(X)\n",
    "lr.fit(X_poly, y)\n",
    "ycap = lr.predict(X_poly)\n",
    "print(mean_squared_error(y, ycap))\n",
    "print(r2_score(y, ycap))"
   ]
  },
  {
   "cell_type": "markdown",
   "id": "3a4feb14",
   "metadata": {},
   "source": [
    "degree = 3"
   ]
  },
  {
   "cell_type": "code",
   "execution_count": 28,
   "id": "0372d13c",
   "metadata": {},
   "outputs": [
    {
     "name": "stdout",
     "output_type": "stream",
     "text": [
      "0.1714927773924718\n",
      "0.997968565754181\n"
     ]
    }
   ],
   "source": [
    "poly = PolynomialFeatures(degree = 3)\n",
    "X_poly = poly.fit_transform(X)\n",
    "lr.fit(X_poly, y)\n",
    "ycap = lr.predict(X_poly)\n",
    "print(mean_squared_error(y, ycap))\n",
    "print(r2_score(y, ycap))"
   ]
  },
  {
   "cell_type": "markdown",
   "id": "e7f04020",
   "metadata": {},
   "source": [
    "## Housing Dataset"
   ]
  },
  {
   "cell_type": "code",
   "execution_count": 29,
   "id": "617c7fbc",
   "metadata": {},
   "outputs": [],
   "source": [
    "housing = pd.read_csv(\"Housing.csv\")\n",
    "dum_hous = pd.get_dummies(housing, drop_first=True)\n",
    "X = dum_hous.drop('price', axis=1)\n",
    "y = dum_hous['price']"
   ]
  },
  {
   "cell_type": "code",
   "execution_count": 30,
   "id": "9bc160f3",
   "metadata": {},
   "outputs": [
    {
     "name": "stdout",
     "output_type": "stream",
     "text": [
      "232646651.3634945\n",
      "0.6731236206414506\n"
     ]
    }
   ],
   "source": [
    "lr.fit(X, y)\n",
    "ycap = lr.predict(X)\n",
    "print(mean_squared_error(y, ycap))\n",
    "print(r2_score(y, ycap))"
   ]
  },
  {
   "cell_type": "markdown",
   "id": "2991cff8",
   "metadata": {},
   "source": [
    "degree = 2"
   ]
  },
  {
   "cell_type": "code",
   "execution_count": 31,
   "id": "fbc70057",
   "metadata": {},
   "outputs": [
    {
     "name": "stdout",
     "output_type": "stream",
     "text": [
      "177958790.6284601\n",
      "0.7499619065448325\n"
     ]
    }
   ],
   "source": [
    "poly = PolynomialFeatures(degree = 2)\n",
    "X_poly = poly.fit_transform(X)\n",
    "lr.fit(X_poly, y)\n",
    "ycap = lr.predict(X_poly)\n",
    "print(mean_squared_error(y, ycap))\n",
    "print(r2_score(y, ycap))"
   ]
  },
  {
   "cell_type": "markdown",
   "id": "7a229f76",
   "metadata": {},
   "source": [
    "degree = 3"
   ]
  },
  {
   "cell_type": "code",
   "execution_count": 32,
   "id": "965cfc70",
   "metadata": {},
   "outputs": [
    {
     "name": "stdout",
     "output_type": "stream",
     "text": [
      "88612167.4685632\n",
      "0.8754969207616868\n"
     ]
    }
   ],
   "source": [
    "poly = PolynomialFeatures(degree = 3)\n",
    "X_poly = poly.fit_transform(X)\n",
    "lr.fit(X_poly, y)\n",
    "ycap = lr.predict(X_poly)\n",
    "print(mean_squared_error(y, ycap))\n",
    "print(r2_score(y, ycap))"
   ]
  },
  {
   "cell_type": "code",
   "execution_count": null,
   "id": "34722e04",
   "metadata": {},
   "outputs": [],
   "source": []
  }
 ],
 "metadata": {
  "kernelspec": {
   "display_name": "Python 3 (ipykernel)",
   "language": "python",
   "name": "python3"
  },
  "language_info": {
   "codemirror_mode": {
    "name": "ipython",
    "version": 3
   },
   "file_extension": ".py",
   "mimetype": "text/x-python",
   "name": "python",
   "nbconvert_exporter": "python",
   "pygments_lexer": "ipython3",
   "version": "3.10.2"
  }
 },
 "nbformat": 4,
 "nbformat_minor": 5
}
