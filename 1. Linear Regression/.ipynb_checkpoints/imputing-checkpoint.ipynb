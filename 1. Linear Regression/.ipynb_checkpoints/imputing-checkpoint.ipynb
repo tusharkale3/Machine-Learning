{
 "cells": [
  {
   "cell_type": "code",
   "execution_count": 16,
   "id": "d0375627",
   "metadata": {},
   "outputs": [],
   "source": [
    "import pandas as pd\n",
    "import os\n",
    "from sklearn.linear_model import LinearRegression \n",
    "from sklearn.metrics import mean_squared_error, r2_score\n",
    "from sklearn.model_selection import train_test_split\n",
    "from sklearn.preprocessing import PolynomialFeatures\n",
    "import numpy as np\n",
    "from sklearn.impute import SimpleImputer\n",
    "from sklearn.pipeline import Pipeline"
   ]
  },
  {
   "cell_type": "code",
   "execution_count": 17,
   "id": "4fb5c0e9",
   "metadata": {},
   "outputs": [
    {
     "data": {
      "text/plain": [
       "(176, 58)"
      ]
     },
     "execution_count": 17,
     "metadata": {},
     "output_type": "execute_result"
    }
   ],
   "source": [
    "chem = pd.read_csv(r\"D:\\CDAC\\PML\\Datasets\\ChemicalProcess.csv\")\n",
    "chem.shape"
   ]
  },
  {
   "cell_type": "code",
   "execution_count": 18,
   "id": "63495948",
   "metadata": {},
   "outputs": [
    {
     "data": {
      "text/plain": [
       "Index(['Yield', 'BiologicalMaterial01', 'BiologicalMaterial02',\n",
       "       'BiologicalMaterial03', 'BiologicalMaterial04', 'BiologicalMaterial05',\n",
       "       'BiologicalMaterial06', 'BiologicalMaterial07', 'BiologicalMaterial08',\n",
       "       'BiologicalMaterial09', 'BiologicalMaterial10', 'BiologicalMaterial11',\n",
       "       'BiologicalMaterial12', 'ManufacturingProcess01',\n",
       "       'ManufacturingProcess02', 'ManufacturingProcess03',\n",
       "       'ManufacturingProcess04', 'ManufacturingProcess05',\n",
       "       'ManufacturingProcess06', 'ManufacturingProcess07',\n",
       "       'ManufacturingProcess08', 'ManufacturingProcess09',\n",
       "       'ManufacturingProcess10', 'ManufacturingProcess11',\n",
       "       'ManufacturingProcess12', 'ManufacturingProcess13',\n",
       "       'ManufacturingProcess14', 'ManufacturingProcess15',\n",
       "       'ManufacturingProcess16', 'ManufacturingProcess17',\n",
       "       'ManufacturingProcess18', 'ManufacturingProcess19',\n",
       "       'ManufacturingProcess20', 'ManufacturingProcess21',\n",
       "       'ManufacturingProcess22', 'ManufacturingProcess23',\n",
       "       'ManufacturingProcess24', 'ManufacturingProcess25',\n",
       "       'ManufacturingProcess26', 'ManufacturingProcess27',\n",
       "       'ManufacturingProcess28', 'ManufacturingProcess29',\n",
       "       'ManufacturingProcess30', 'ManufacturingProcess31',\n",
       "       'ManufacturingProcess32', 'ManufacturingProcess33',\n",
       "       'ManufacturingProcess34', 'ManufacturingProcess35',\n",
       "       'ManufacturingProcess36', 'ManufacturingProcess37',\n",
       "       'ManufacturingProcess38', 'ManufacturingProcess39',\n",
       "       'ManufacturingProcess40', 'ManufacturingProcess41',\n",
       "       'ManufacturingProcess42', 'ManufacturingProcess43',\n",
       "       'ManufacturingProcess44', 'ManufacturingProcess45'],\n",
       "      dtype='object')"
      ]
     },
     "execution_count": 18,
     "metadata": {},
     "output_type": "execute_result"
    }
   ],
   "source": [
    "chem.columns"
   ]
  },
  {
   "cell_type": "code",
   "execution_count": 19,
   "id": "b5c067c0",
   "metadata": {},
   "outputs": [
    {
     "data": {
      "text/plain": [
       "Yield                      0\n",
       "BiologicalMaterial01       0\n",
       "BiologicalMaterial02       0\n",
       "BiologicalMaterial03       0\n",
       "BiologicalMaterial04       0\n",
       "BiologicalMaterial05       0\n",
       "BiologicalMaterial06       0\n",
       "BiologicalMaterial07       0\n",
       "BiologicalMaterial08       0\n",
       "BiologicalMaterial09       0\n",
       "BiologicalMaterial10       0\n",
       "BiologicalMaterial11       0\n",
       "BiologicalMaterial12       0\n",
       "ManufacturingProcess01     1\n",
       "ManufacturingProcess02     3\n",
       "ManufacturingProcess03    15\n",
       "ManufacturingProcess04     1\n",
       "ManufacturingProcess05     1\n",
       "ManufacturingProcess06     2\n",
       "ManufacturingProcess07     1\n",
       "ManufacturingProcess08     1\n",
       "ManufacturingProcess09     0\n",
       "ManufacturingProcess10     9\n",
       "ManufacturingProcess11    10\n",
       "ManufacturingProcess12     1\n",
       "ManufacturingProcess13     0\n",
       "ManufacturingProcess14     1\n",
       "ManufacturingProcess15     0\n",
       "ManufacturingProcess16     0\n",
       "ManufacturingProcess17     0\n",
       "ManufacturingProcess18     0\n",
       "ManufacturingProcess19     0\n",
       "ManufacturingProcess20     0\n",
       "ManufacturingProcess21     0\n",
       "ManufacturingProcess22     1\n",
       "ManufacturingProcess23     1\n",
       "ManufacturingProcess24     1\n",
       "ManufacturingProcess25     5\n",
       "ManufacturingProcess26     5\n",
       "ManufacturingProcess27     5\n",
       "ManufacturingProcess28     5\n",
       "ManufacturingProcess29     5\n",
       "ManufacturingProcess30     5\n",
       "ManufacturingProcess31     5\n",
       "ManufacturingProcess32     0\n",
       "ManufacturingProcess33     5\n",
       "ManufacturingProcess34     5\n",
       "ManufacturingProcess35     5\n",
       "ManufacturingProcess36     5\n",
       "ManufacturingProcess37     0\n",
       "ManufacturingProcess38     0\n",
       "ManufacturingProcess39     0\n",
       "ManufacturingProcess40     1\n",
       "ManufacturingProcess41     1\n",
       "ManufacturingProcess42     0\n",
       "ManufacturingProcess43     0\n",
       "ManufacturingProcess44     0\n",
       "ManufacturingProcess45     0\n",
       "dtype: int64"
      ]
     },
     "execution_count": 19,
     "metadata": {},
     "output_type": "execute_result"
    }
   ],
   "source": [
    "np.sum(chem.isnull())"
   ]
  },
  {
   "cell_type": "markdown",
   "id": "3b38e552",
   "metadata": {},
   "source": [
    "### Mean Imputation"
   ]
  },
  {
   "cell_type": "code",
   "execution_count": 20,
   "id": "6e9a1ffa",
   "metadata": {},
   "outputs": [],
   "source": [
    "import pandas as pd\n",
    "from sklearn.impute import SimpleImputer\n",
    "\n",
    "# Assuming 'chem' is your DataFrame with missing values\n",
    "imp = SimpleImputer(strategy='mean')\n",
    "imputed_array = imp.fit_transform(chem)\n",
    "imputed_df = pd.DataFrame(imputed_array, columns=chem.columns)\n"
   ]
  },
  {
   "cell_type": "code",
   "execution_count": 21,
   "id": "b736bc2e",
   "metadata": {},
   "outputs": [
    {
     "data": {
      "text/plain": [
       "((123, 57), (53, 57), (123,), (53,))"
      ]
     },
     "execution_count": 21,
     "metadata": {},
     "output_type": "execute_result"
    }
   ],
   "source": [
    "X = imputed_df.drop('Yield', axis=1)\n",
    "y = imputed_df['Yield']\n",
    "X_train, X_test, y_train, y_test = train_test_split(X, y, test_size=0.3,\n",
    "                                                    random_state=23)\n",
    "X_train.shape, X_test.shape, y_train.shape, y_test.shape"
   ]
  },
  {
   "cell_type": "code",
   "execution_count": 22,
   "id": "715141b7",
   "metadata": {},
   "outputs": [
    {
     "name": "stdout",
     "output_type": "stream",
     "text": [
      "0.4071816827272374\n"
     ]
    }
   ],
   "source": [
    "lr = LinearRegression()\n",
    "lr.fit(X_train, y_train)\n",
    "ycap = lr.predict(X_test)\n",
    "print(r2_score(y_test, ycap))"
   ]
  },
  {
   "cell_type": "code",
   "execution_count": 23,
   "id": "b69a71c5",
   "metadata": {},
   "outputs": [
    {
     "name": "stdout",
     "output_type": "stream",
     "text": [
      "-13.931544327005039\n"
     ]
    }
   ],
   "source": [
    "poly = PolynomialFeatures(degree=2)\n",
    "lr = LinearRegression()\n",
    "pipe = Pipeline([('POLY',poly), ('LR', lr)])\n",
    "pipe.fit(X_train, y_train)\n",
    "ycap = pipe.predict(X_test)\n",
    "print(r2_score(y_test, ycap))"
   ]
  },
  {
   "cell_type": "code",
   "execution_count": 24,
   "id": "06cd49df",
   "metadata": {},
   "outputs": [
    {
     "name": "stdout",
     "output_type": "stream",
     "text": [
      "-13.31399396219208\n"
     ]
    }
   ],
   "source": [
    "poly = PolynomialFeatures(degree=3)\n",
    "lr = LinearRegression()\n",
    "pipe = Pipeline([('POLY',poly), ('LR', lr)])\n",
    "pipe.fit(X_train, y_train)\n",
    "ycap = pipe.predict(X_test)\n",
    "print(r2_score(y_test, ycap))"
   ]
  },
  {
   "cell_type": "markdown",
   "id": "5b9cc92b",
   "metadata": {},
   "source": [
    "### Median Imputation"
   ]
  },
  {
   "cell_type": "code",
   "execution_count": 26,
   "id": "851897ae",
   "metadata": {},
   "outputs": [],
   "source": [
    "# Assuming 'chem' is your DataFrame with missing values\n",
    "imp = SimpleImputer(strategy='median')\n",
    "imputed_array = imp.fit_transform(chem)\n",
    "imputed_df = pd.DataFrame(imputed_array, columns=chem.columns)"
   ]
  },
  {
   "cell_type": "code",
   "execution_count": 28,
   "id": "ae2bf02c",
   "metadata": {},
   "outputs": [
    {
     "data": {
      "text/plain": [
       "((123, 57), (53, 57), (123,), (53,))"
      ]
     },
     "execution_count": 28,
     "metadata": {},
     "output_type": "execute_result"
    }
   ],
   "source": [
    "X = imputed_df.drop('Yield', axis=1)\n",
    "y = imputed_df['Yield']\n",
    "X_train, X_test, y_train, y_test = train_test_split(X, y, test_size=0.3,\n",
    "                                                    random_state=23)\n",
    "X_train.shape, X_test.shape, y_train.shape, y_test.shape"
   ]
  },
  {
   "cell_type": "code",
   "execution_count": 29,
   "id": "470d9a4b",
   "metadata": {},
   "outputs": [
    {
     "name": "stdout",
     "output_type": "stream",
     "text": [
      "0.3947982597867259\n"
     ]
    }
   ],
   "source": [
    "lr = LinearRegression()\n",
    "lr.fit(X_train, y_train)\n",
    "ycap = lr.predict(X_test)\n",
    "print(r2_score(y_test, ycap))"
   ]
  },
  {
   "cell_type": "code",
   "execution_count": 30,
   "id": "490ffe36",
   "metadata": {},
   "outputs": [
    {
     "name": "stdout",
     "output_type": "stream",
     "text": [
      "-13.252078970928933\n"
     ]
    }
   ],
   "source": [
    "poly = PolynomialFeatures(degree=2)\n",
    "lr = LinearRegression()\n",
    "pipe = Pipeline([('POLY',poly), ('LR', lr)])\n",
    "pipe.fit(X_train, y_train)\n",
    "ycap = pipe.predict(X_test)\n",
    "print(r2_score(y_test, ycap))"
   ]
  },
  {
   "cell_type": "code",
   "execution_count": 31,
   "id": "cba2ca95",
   "metadata": {},
   "outputs": [
    {
     "name": "stdout",
     "output_type": "stream",
     "text": [
      "-12.38405245330541\n"
     ]
    }
   ],
   "source": [
    "poly = PolynomialFeatures(degree=3)\n",
    "lr = LinearRegression()\n",
    "pipe = Pipeline([('POLY',poly), ('LR', lr)])\n",
    "pipe.fit(X_train, y_train)\n",
    "ycap = pipe.predict(X_test)\n",
    "print(r2_score(y_test, ycap))"
   ]
  },
  {
   "cell_type": "code",
   "execution_count": null,
   "id": "59c58c75",
   "metadata": {},
   "outputs": [],
   "source": []
  }
 ],
 "metadata": {
  "kernelspec": {
   "display_name": "Python 3 (ipykernel)",
   "language": "python",
   "name": "python3"
  },
  "language_info": {
   "codemirror_mode": {
    "name": "ipython",
    "version": 3
   },
   "file_extension": ".py",
   "mimetype": "text/x-python",
   "name": "python",
   "nbconvert_exporter": "python",
   "pygments_lexer": "ipython3",
   "version": "3.10.2"
  }
 },
 "nbformat": 4,
 "nbformat_minor": 5
}
