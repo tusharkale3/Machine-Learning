{
 "cells": [
  {
   "cell_type": "code",
   "execution_count": 1,
   "metadata": {},
   "outputs": [],
   "source": [
    "import torch\n",
    "import pandas as pd\n",
    "import numpy as np\n",
    "import torch.nn as nn\n",
    "from sklearn.model_selection import train_test_split \n",
    "from sklearn.metrics import r2_score, mean_squared_error as mse\n",
    "from sklearn.preprocessing import MinMaxScaler"
   ]
  },
  {
   "cell_type": "code",
   "execution_count": 2,
   "metadata": {},
   "outputs": [
    {
     "data": {
      "text/html": [
       "<div>\n",
       "<style scoped>\n",
       "    .dataframe tbody tr th:only-of-type {\n",
       "        vertical-align: middle;\n",
       "    }\n",
       "\n",
       "    .dataframe tbody tr th {\n",
       "        vertical-align: top;\n",
       "    }\n",
       "\n",
       "    .dataframe thead th {\n",
       "        text-align: right;\n",
       "    }\n",
       "</style>\n",
       "<table border=\"1\" class=\"dataframe\">\n",
       "  <thead>\n",
       "    <tr style=\"text-align: right;\">\n",
       "      <th></th>\n",
       "      <th>price</th>\n",
       "      <th>lotsize</th>\n",
       "      <th>bedrooms</th>\n",
       "      <th>bathrms</th>\n",
       "      <th>stories</th>\n",
       "      <th>garagepl</th>\n",
       "      <th>driveway_no</th>\n",
       "      <th>driveway_yes</th>\n",
       "      <th>recroom_no</th>\n",
       "      <th>recroom_yes</th>\n",
       "      <th>fullbase_no</th>\n",
       "      <th>fullbase_yes</th>\n",
       "      <th>gashw_no</th>\n",
       "      <th>gashw_yes</th>\n",
       "      <th>airco_no</th>\n",
       "      <th>airco_yes</th>\n",
       "      <th>prefarea_no</th>\n",
       "      <th>prefarea_yes</th>\n",
       "    </tr>\n",
       "  </thead>\n",
       "  <tbody>\n",
       "    <tr>\n",
       "      <th>0</th>\n",
       "      <td>42000.0</td>\n",
       "      <td>5850.0</td>\n",
       "      <td>3.0</td>\n",
       "      <td>1.0</td>\n",
       "      <td>2.0</td>\n",
       "      <td>1.0</td>\n",
       "      <td>0.0</td>\n",
       "      <td>1.0</td>\n",
       "      <td>1.0</td>\n",
       "      <td>0.0</td>\n",
       "      <td>0.0</td>\n",
       "      <td>1.0</td>\n",
       "      <td>1.0</td>\n",
       "      <td>0.0</td>\n",
       "      <td>1.0</td>\n",
       "      <td>0.0</td>\n",
       "      <td>1.0</td>\n",
       "      <td>0.0</td>\n",
       "    </tr>\n",
       "    <tr>\n",
       "      <th>1</th>\n",
       "      <td>38500.0</td>\n",
       "      <td>4000.0</td>\n",
       "      <td>2.0</td>\n",
       "      <td>1.0</td>\n",
       "      <td>1.0</td>\n",
       "      <td>0.0</td>\n",
       "      <td>0.0</td>\n",
       "      <td>1.0</td>\n",
       "      <td>1.0</td>\n",
       "      <td>0.0</td>\n",
       "      <td>1.0</td>\n",
       "      <td>0.0</td>\n",
       "      <td>1.0</td>\n",
       "      <td>0.0</td>\n",
       "      <td>1.0</td>\n",
       "      <td>0.0</td>\n",
       "      <td>1.0</td>\n",
       "      <td>0.0</td>\n",
       "    </tr>\n",
       "    <tr>\n",
       "      <th>2</th>\n",
       "      <td>49500.0</td>\n",
       "      <td>3060.0</td>\n",
       "      <td>3.0</td>\n",
       "      <td>1.0</td>\n",
       "      <td>1.0</td>\n",
       "      <td>0.0</td>\n",
       "      <td>0.0</td>\n",
       "      <td>1.0</td>\n",
       "      <td>1.0</td>\n",
       "      <td>0.0</td>\n",
       "      <td>1.0</td>\n",
       "      <td>0.0</td>\n",
       "      <td>1.0</td>\n",
       "      <td>0.0</td>\n",
       "      <td>1.0</td>\n",
       "      <td>0.0</td>\n",
       "      <td>1.0</td>\n",
       "      <td>0.0</td>\n",
       "    </tr>\n",
       "    <tr>\n",
       "      <th>3</th>\n",
       "      <td>60500.0</td>\n",
       "      <td>6650.0</td>\n",
       "      <td>3.0</td>\n",
       "      <td>1.0</td>\n",
       "      <td>2.0</td>\n",
       "      <td>0.0</td>\n",
       "      <td>0.0</td>\n",
       "      <td>1.0</td>\n",
       "      <td>0.0</td>\n",
       "      <td>1.0</td>\n",
       "      <td>1.0</td>\n",
       "      <td>0.0</td>\n",
       "      <td>1.0</td>\n",
       "      <td>0.0</td>\n",
       "      <td>1.0</td>\n",
       "      <td>0.0</td>\n",
       "      <td>1.0</td>\n",
       "      <td>0.0</td>\n",
       "    </tr>\n",
       "    <tr>\n",
       "      <th>4</th>\n",
       "      <td>61000.0</td>\n",
       "      <td>6360.0</td>\n",
       "      <td>2.0</td>\n",
       "      <td>1.0</td>\n",
       "      <td>1.0</td>\n",
       "      <td>0.0</td>\n",
       "      <td>0.0</td>\n",
       "      <td>1.0</td>\n",
       "      <td>1.0</td>\n",
       "      <td>0.0</td>\n",
       "      <td>1.0</td>\n",
       "      <td>0.0</td>\n",
       "      <td>1.0</td>\n",
       "      <td>0.0</td>\n",
       "      <td>1.0</td>\n",
       "      <td>0.0</td>\n",
       "      <td>1.0</td>\n",
       "      <td>0.0</td>\n",
       "    </tr>\n",
       "  </tbody>\n",
       "</table>\n",
       "</div>"
      ],
      "text/plain": [
       "     price  lotsize  bedrooms  bathrms  stories  garagepl  driveway_no  \\\n",
       "0  42000.0   5850.0       3.0      1.0      2.0       1.0          0.0   \n",
       "1  38500.0   4000.0       2.0      1.0      1.0       0.0          0.0   \n",
       "2  49500.0   3060.0       3.0      1.0      1.0       0.0          0.0   \n",
       "3  60500.0   6650.0       3.0      1.0      2.0       0.0          0.0   \n",
       "4  61000.0   6360.0       2.0      1.0      1.0       0.0          0.0   \n",
       "\n",
       "   driveway_yes  recroom_no  recroom_yes  fullbase_no  fullbase_yes  gashw_no  \\\n",
       "0           1.0         1.0          0.0          0.0           1.0       1.0   \n",
       "1           1.0         1.0          0.0          1.0           0.0       1.0   \n",
       "2           1.0         1.0          0.0          1.0           0.0       1.0   \n",
       "3           1.0         0.0          1.0          1.0           0.0       1.0   \n",
       "4           1.0         1.0          0.0          1.0           0.0       1.0   \n",
       "\n",
       "   gashw_yes  airco_no  airco_yes  prefarea_no  prefarea_yes  \n",
       "0        0.0       1.0        0.0          1.0           0.0  \n",
       "1        0.0       1.0        0.0          1.0           0.0  \n",
       "2        0.0       1.0        0.0          1.0           0.0  \n",
       "3        0.0       1.0        0.0          1.0           0.0  \n",
       "4        0.0       1.0        0.0          1.0           0.0  "
      ]
     },
     "execution_count": 2,
     "metadata": {},
     "output_type": "execute_result"
    }
   ],
   "source": [
    "df = pd.read_csv(\"C:/Training/Academy/Statistics (Python)/Cases/Real Estate/Housing.csv\")\n",
    "dum_df = pd.get_dummies(df)\n",
    "dum_df = dum_df.astype(float)\n",
    "dum_df.head()"
   ]
  },
  {
   "cell_type": "code",
   "execution_count": 3,
   "metadata": {},
   "outputs": [
    {
     "data": {
      "text/plain": [
       "(546, 18)"
      ]
     },
     "execution_count": 3,
     "metadata": {},
     "output_type": "execute_result"
    }
   ],
   "source": [
    "dum_df.shape"
   ]
  },
  {
   "cell_type": "code",
   "execution_count": 4,
   "metadata": {},
   "outputs": [],
   "source": [
    "X = dum_df.iloc[:,1:]\n",
    "y = dum_df['price']\n",
    "scaler = MinMaxScaler()\n",
    "scalerY = MinMaxScaler()\n",
    "X_train, X_test, y_train, y_test = train_test_split(X, y, test_size = 0.3, \n",
    "                                                    random_state=23)\n",
    "y_train = scalerY.fit_transform(y_train.values.reshape(-1, 1))\n",
    "X_train = scaler.fit_transform(X_train)\n",
    "#y_test = scalerY.transform(y_test.values.reshape(-1, 1))\n",
    "X_test = scaler.transform(X_test)"
   ]
  },
  {
   "cell_type": "code",
   "execution_count": 5,
   "metadata": {},
   "outputs": [
    {
     "name": "stdout",
     "output_type": "stream",
     "text": [
      "torch.Size([382, 17])\n",
      "torch.Size([382, 1])\n"
     ]
    }
   ],
   "source": [
    "X_torch = torch.from_numpy(X_train)\n",
    "y_torch = torch.from_numpy(y_train)\n",
    "print(X_torch.size())\n",
    "print(y_torch.size())"
   ]
  },
  {
   "cell_type": "code",
   "execution_count": 6,
   "metadata": {},
   "outputs": [],
   "source": [
    "torch.manual_seed(23)\n",
    "# Create a model\n",
    "model = nn.Sequential(nn.Linear(in_features=X_train.shape[1], out_features=8),\n",
    "                      nn.ReLU(),\n",
    "                      nn.Linear(8,6),\n",
    "                      nn.ReLU(),\n",
    "                      nn.Linear(6,4),\n",
    "                      nn.ReLU(),\n",
    "                      nn.Linear(4, 3),\n",
    "                      nn.ReLU(),\n",
    "                      nn.Linear(3,1),\n",
    "                      nn.ReLU())"
   ]
  },
  {
   "cell_type": "code",
   "execution_count": 7,
   "metadata": {},
   "outputs": [
    {
     "data": {
      "text/plain": [
       "Adam (\n",
       "Parameter Group 0\n",
       "    amsgrad: False\n",
       "    betas: (0.9, 0.999)\n",
       "    capturable: False\n",
       "    differentiable: False\n",
       "    eps: 1e-08\n",
       "    foreach: None\n",
       "    fused: None\n",
       "    lr: 0.1\n",
       "    maximize: False\n",
       "    weight_decay: 0\n",
       ")"
      ]
     },
     "execution_count": 7,
     "metadata": {},
     "output_type": "execute_result"
    }
   ],
   "source": [
    "criterion = torch.nn.MSELoss()\n",
    "# Construct the optimizer (Stochastic Gradient Descent in this case)\n",
    "optimizer = torch.optim.Adam(model.parameters(), lr = 0.1)\n",
    "optimizer"
   ]
  },
  {
   "cell_type": "markdown",
   "metadata": {},
   "source": [
    "Initail Weights"
   ]
  },
  {
   "cell_type": "code",
   "execution_count": 8,
   "metadata": {},
   "outputs": [
    {
     "data": {
      "text/plain": [
       "Parameter containing:\n",
       "tensor([[-0.0348, -0.1024, -0.0376, -0.0693,  0.2220, -0.1892, -0.1002,  0.2040,\n",
       "          0.0425, -0.1795,  0.0838, -0.1927,  0.1395,  0.0262, -0.0168, -0.1304,\n",
       "         -0.1351],\n",
       "        [-0.0801, -0.0223, -0.1203,  0.0635, -0.1598, -0.0911, -0.1467,  0.0226,\n",
       "         -0.2322,  0.1964,  0.1671,  0.2100, -0.0994, -0.0110, -0.0103, -0.0757,\n",
       "          0.0840],\n",
       "        [ 0.0773, -0.1514, -0.0220, -0.1917,  0.1025,  0.1314,  0.0249, -0.2034,\n",
       "         -0.0956,  0.1424, -0.1056,  0.0333, -0.1769, -0.0376, -0.1482, -0.2042,\n",
       "         -0.1338],\n",
       "        [-0.0915,  0.2080,  0.2071,  0.0976,  0.1352,  0.0800, -0.1087,  0.1077,\n",
       "         -0.0120, -0.1647, -0.0381,  0.1310, -0.0318,  0.0107,  0.0718,  0.0846,\n",
       "         -0.1852],\n",
       "        [-0.1370,  0.1214,  0.1692, -0.0745,  0.1400,  0.0627,  0.1856,  0.1022,\n",
       "         -0.0120,  0.1870, -0.1059, -0.0271,  0.0739,  0.1360, -0.2207, -0.0089,\n",
       "          0.1923],\n",
       "        [ 0.2223,  0.1324,  0.1182,  0.0637, -0.1643,  0.0434, -0.0968,  0.0242,\n",
       "         -0.1899,  0.0325, -0.0377,  0.0786, -0.1818,  0.0822,  0.0795,  0.1504,\n",
       "          0.1827],\n",
       "        [-0.0124, -0.0851, -0.1942, -0.0355,  0.1917,  0.2247, -0.0731,  0.0408,\n",
       "         -0.1270, -0.0347, -0.1284, -0.0802, -0.2339,  0.0350,  0.1265,  0.0548,\n",
       "         -0.1454],\n",
       "        [ 0.1107,  0.2397,  0.2377, -0.2230, -0.0489,  0.0487,  0.0471, -0.1901,\n",
       "          0.1258,  0.0934,  0.0500,  0.0516,  0.1623, -0.0905, -0.1102, -0.1138,\n",
       "          0.2323]], requires_grad=True)"
      ]
     },
     "execution_count": 8,
     "metadata": {},
     "output_type": "execute_result"
    }
   ],
   "source": [
    "model[0].weight"
   ]
  },
  {
   "cell_type": "code",
   "execution_count": 9,
   "metadata": {},
   "outputs": [
    {
     "data": {
      "text/plain": [
       "Sequential(\n",
       "  (0): Linear(in_features=17, out_features=8, bias=True)\n",
       "  (1): ReLU()\n",
       "  (2): Linear(in_features=8, out_features=6, bias=True)\n",
       "  (3): ReLU()\n",
       "  (4): Linear(in_features=6, out_features=4, bias=True)\n",
       "  (5): ReLU()\n",
       "  (6): Linear(in_features=4, out_features=3, bias=True)\n",
       "  (7): ReLU()\n",
       "  (8): Linear(in_features=3, out_features=1, bias=True)\n",
       "  (9): ReLU()\n",
       ")"
      ]
     },
     "execution_count": 9,
     "metadata": {},
     "output_type": "execute_result"
    }
   ],
   "source": [
    "model"
   ]
  },
  {
   "cell_type": "code",
   "execution_count": 10,
   "metadata": {},
   "outputs": [
    {
     "name": "stdout",
     "output_type": "stream",
     "text": [
      "torch.Size([382, 1])\n",
      "torch.Size([382, 1])\n"
     ]
    }
   ],
   "source": [
    "y_pred = model(X_torch.float())\n",
    "#y_torch = y_torch.unsqueeze(1)\n",
    "print(y_torch.shape)\n",
    "print(y_pred.shape)"
   ]
  },
  {
   "cell_type": "code",
   "execution_count": 11,
   "metadata": {},
   "outputs": [
    {
     "name": "stdout",
     "output_type": "stream",
     "text": [
      "epoch:  1  loss:  0.02720540389418602\n",
      "epoch:  101  loss:  0.027075545862317085\n",
      "epoch:  201  loss:  0.02657013013958931\n",
      "epoch:  301  loss:  0.009478576481342316\n",
      "epoch:  401  loss:  0.008017164655029774\n",
      "epoch:  501  loss:  0.007675302680581808\n",
      "epoch:  601  loss:  0.0076583195477724075\n",
      "epoch:  701  loss:  0.007691293489187956\n",
      "epoch:  801  loss:  0.007676278240978718\n",
      "epoch:  901  loss:  0.007794701494276524\n"
     ]
    }
   ],
   "source": [
    "# Gradient Descent\n",
    "\n",
    "for epoch in np.arange(0,1000):\n",
    "   # Forward pass: Compute predicted y by passing x to the model\n",
    "   y_pred = model(X_torch.float())\n",
    "\n",
    "   # Compute and print loss\n",
    "   loss = criterion(y_pred, y_torch.float())\n",
    "   #print('epoch: ', epoch+1,' loss: ', loss.item())\n",
    "\n",
    "   # Zero gradients, perform a backward pass, and update the weights.\n",
    "   optimizer.zero_grad()\n",
    "\n",
    "   # perform a backward pass (backpropagation)\n",
    "   loss.backward()\n",
    "\n",
    "   # Update the parameters\n",
    "   optimizer.step()\n",
    "   if epoch % 100 == 0:\n",
    "       print('epoch: ', epoch+1,' loss: ', loss.item())"
   ]
  },
  {
   "cell_type": "code",
   "execution_count": 12,
   "metadata": {},
   "outputs": [
    {
     "data": {
      "text/plain": [
       "array([0.51723206, 0.13676906, 0.21847744, 0.13676906, 0.13676906],\n",
       "      dtype=float32)"
      ]
     },
     "execution_count": 12,
     "metadata": {},
     "output_type": "execute_result"
    }
   ],
   "source": [
    "#model = model.eval()\n",
    "X_torch_test = torch.from_numpy(X_test)\n",
    "y_pred = model(X_torch_test.float())\n",
    "y_pred = y_pred.detach().numpy()\n",
    "y_pred = y_pred.reshape(y_test.shape[0],)\n",
    "y_pred[:5]"
   ]
  },
  {
   "cell_type": "code",
   "execution_count": 13,
   "metadata": {},
   "outputs": [
    {
     "data": {
      "text/plain": [
       "array([[110343.29 ],\n",
       "       [ 47566.895],\n",
       "       [ 61048.777],\n",
       "       [ 47566.895],\n",
       "       [ 47566.895]], dtype=float32)"
      ]
     },
     "execution_count": 13,
     "metadata": {},
     "output_type": "execute_result"
    }
   ],
   "source": [
    "y_pred = y_pred.reshape(-1,1)\n",
    "y_pred_orig = scalerY.inverse_transform(y_pred)\n",
    "y_pred_orig[:5]"
   ]
  },
  {
   "cell_type": "code",
   "execution_count": 14,
   "metadata": {},
   "outputs": [
    {
     "data": {
      "text/plain": [
       "231    87000.0\n",
       "155    60000.0\n",
       "424    65500.0\n",
       "268    54000.0\n",
       "19     45000.0\n",
       "Name: price, dtype: float64"
      ]
     },
     "execution_count": 14,
     "metadata": {},
     "output_type": "execute_result"
    }
   ],
   "source": [
    "y_test.iloc[:5]"
   ]
  },
  {
   "cell_type": "markdown",
   "metadata": {},
   "source": [
    "### Test Set R2 Score"
   ]
  },
  {
   "cell_type": "code",
   "execution_count": 15,
   "metadata": {},
   "outputs": [
    {
     "name": "stdout",
     "output_type": "stream",
     "text": [
      "0.5913178540683988\n"
     ]
    }
   ],
   "source": [
    "print(r2_score(y_test,y_pred_orig))"
   ]
  },
  {
   "cell_type": "markdown",
   "metadata": {},
   "source": [
    "### Test Set MSE"
   ]
  },
  {
   "cell_type": "code",
   "execution_count": 16,
   "metadata": {},
   "outputs": [
    {
     "data": {
      "text/plain": [
       "263530852.70905462"
      ]
     },
     "execution_count": 16,
     "metadata": {},
     "output_type": "execute_result"
    }
   ],
   "source": [
    "mse(y_test,y_pred_orig)"
   ]
  },
  {
   "cell_type": "code",
   "execution_count": null,
   "metadata": {},
   "outputs": [],
   "source": []
  },
  {
   "cell_type": "code",
   "execution_count": null,
   "metadata": {},
   "outputs": [],
   "source": []
  }
 ],
 "metadata": {
  "kernelspec": {
   "display_name": "Python 3 (ipykernel)",
   "language": "python",
   "name": "python3"
  },
  "language_info": {
   "codemirror_mode": {
    "name": "ipython",
    "version": 3
   },
   "file_extension": ".py",
   "mimetype": "text/x-python",
   "name": "python",
   "nbconvert_exporter": "python",
   "pygments_lexer": "ipython3",
   "version": "3.11.5"
  }
 },
 "nbformat": 4,
 "nbformat_minor": 4
}
