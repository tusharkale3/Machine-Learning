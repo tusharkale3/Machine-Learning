{
  "cells": [
    {
      "cell_type": "code",
      "execution_count": 1,
      "metadata": {
        "colab": {
          "base_uri": "https://localhost:8080/"
        },
        "id": "pj1HF1t38_sD",
        "outputId": "a5e2531f-2a65-4bc0-9c2b-8d8374f738a1"
      },
      "outputs": [
        {
          "output_type": "stream",
          "name": "stdout",
          "text": [
            "Mounted at /content/drive\n"
          ]
        }
      ],
      "source": [
        "from google.colab import drive\n",
        "drive.mount('/content/drive')"
      ]
    },
    {
      "cell_type": "code",
      "execution_count": 2,
      "metadata": {
        "id": "Rfqpb_6Xu2-o"
      },
      "outputs": [],
      "source": [
        "import os\n",
        "os.chdir(\"/content/drive/My Drive/NLP\")"
      ]
    },
    {
      "cell_type": "code",
      "execution_count": 3,
      "metadata": {
        "id": "GmRLoN6kSD3C"
      },
      "outputs": [],
      "source": [
        "from gensim.models import KeyedVectors\n",
        "filename = 'GoogleNews-vectors-negative300.bin'\n",
        "model = KeyedVectors.load_word2vec_format(filename, binary=True)"
      ]
    },
    {
      "cell_type": "code",
      "execution_count": 4,
      "metadata": {
        "colab": {
          "base_uri": "https://localhost:8080/"
        },
        "id": "DEAHpVhH6kdQ",
        "outputId": "3cb4d002-9523-40d9-f8d7-59efd712e1ac"
      },
      "outputs": [
        {
          "output_type": "execute_result",
          "data": {
            "text/plain": [
              "gensim.models.keyedvectors.KeyedVectors"
            ]
          },
          "metadata": {},
          "execution_count": 4
        }
      ],
      "source": [
        "type(model)"
      ]
    },
    {
      "cell_type": "code",
      "execution_count": 9,
      "metadata": {
        "colab": {
          "base_uri": "https://localhost:8080/"
        },
        "id": "TbIdcH6CcPkt",
        "outputId": "b07887e1-5056-41cd-c1fe-cd85e197a8c6"
      },
      "outputs": [
        {
          "output_type": "stream",
          "name": "stdout",
          "text": [
            "(300,)\n"
          ]
        }
      ],
      "source": [
        "result1 = model.get_vector(\"laptop\")\n",
        "print(result1.shape)"
      ]
    },
    {
      "cell_type": "code",
      "execution_count": 11,
      "metadata": {
        "colab": {
          "base_uri": "https://localhost:8080/"
        },
        "id": "CN36Kv0_2kKv",
        "outputId": "e84d3778-ef26-4100-deee-a742bafc1b9e"
      },
      "outputs": [
        {
          "output_type": "stream",
          "name": "stdout",
          "text": [
            "(300,)\n"
          ]
        }
      ],
      "source": [
        "result2 = model.get_vector(\"computer\")\n",
        "print(result2.shape)"
      ]
    },
    {
      "cell_type": "code",
      "source": [
        "import numpy as np\n",
        "np.corrcoef(result1, result2)"
      ],
      "metadata": {
        "colab": {
          "base_uri": "https://localhost:8080/"
        },
        "id": "qDBov7MPzn3X",
        "outputId": "00340dd6-8313-4c8f-9c53-f5eca904439a"
      },
      "execution_count": 14,
      "outputs": [
        {
          "output_type": "execute_result",
          "data": {
            "text/plain": [
              "array([[1.        , 0.66163974],\n",
              "       [0.66163974, 1.        ]])"
            ]
          },
          "metadata": {},
          "execution_count": 14
        }
      ]
    },
    {
      "cell_type": "code",
      "source": [
        "result = model.similarity('laptop','computer')\n",
        "print(result)"
      ],
      "metadata": {
        "colab": {
          "base_uri": "https://localhost:8080/"
        },
        "id": "CmO1eGYB0jM5",
        "outputId": "8f05b0d5-3b7f-42e9-db0c-91d0d0d7d881"
      },
      "execution_count": 15,
      "outputs": [
        {
          "output_type": "stream",
          "name": "stdout",
          "text": [
            "0.66404927\n"
          ]
        }
      ]
    },
    {
      "cell_type": "code",
      "source": [
        "result = model.similarity('river','mountain')\n",
        "print(result)"
      ],
      "metadata": {
        "colab": {
          "base_uri": "https://localhost:8080/"
        },
        "id": "fJmegyER0o-v",
        "outputId": "e377b835-35df-494d-bdd2-d17b5650ab41"
      },
      "execution_count": 18,
      "outputs": [
        {
          "output_type": "stream",
          "name": "stdout",
          "text": [
            "0.34677538\n"
          ]
        }
      ]
    },
    {
      "cell_type": "code",
      "execution_count": 19,
      "metadata": {
        "id": "Sb47bEiSksZi",
        "colab": {
          "base_uri": "https://localhost:8080/"
        },
        "outputId": "1c909363-1f2f-40f2-cc82-c6cb6cd849c3"
      },
      "outputs": [
        {
          "output_type": "stream",
          "name": "stdout",
          "text": [
            "[('creek', 0.7994443774223328), ('lake', 0.7919586896896362), ('rivers', 0.7777560949325562), ('riverbank', 0.7283665537834167), ('canal', 0.722176194190979)]\n"
          ]
        }
      ],
      "source": [
        "result = model.most_similar('river',topn=5)\n",
        "print(result)"
      ]
    },
    {
      "cell_type": "code",
      "source": [
        "result = model.most_similar('physics',topn=5)\n",
        "print(result)"
      ],
      "metadata": {
        "colab": {
          "base_uri": "https://localhost:8080/"
        },
        "id": "DbZUVZpk1DDQ",
        "outputId": "ff9e7dab-943d-4236-9730-32c4351110dd"
      },
      "execution_count": 20,
      "outputs": [
        {
          "output_type": "stream",
          "name": "stdout",
          "text": [
            "[('quantum_mechanics', 0.697684645652771), ('Physics', 0.690711259841919), ('quantum_physics', 0.6846467852592468), ('astrophysics', 0.6702421307563782), ('particle_physics', 0.6591597199440002)]\n"
          ]
        }
      ]
    },
    {
      "cell_type": "code",
      "execution_count": 21,
      "metadata": {
        "colab": {
          "base_uri": "https://localhost:8080/"
        },
        "id": "ZWNOBOTZVRzx",
        "outputId": "3997e199-75c4-4831-c4ee-247f02194fb5"
      },
      "outputs": [
        {
          "output_type": "stream",
          "name": "stdout",
          "text": [
            "0.7727579\n"
          ]
        }
      ],
      "source": [
        "result = model.similarity('reliance','dependence')\n",
        "print(result)"
      ]
    },
    {
      "cell_type": "code",
      "execution_count": 22,
      "metadata": {
        "colab": {
          "base_uri": "https://localhost:8080/"
        },
        "id": "RFbXTjFRlK-d",
        "outputId": "382bdd4f-2228-4284-8ba2-25fa9b733167"
      },
      "outputs": [
        {
          "output_type": "stream",
          "name": "stdout",
          "text": [
            "0.22009572\n"
          ]
        }
      ],
      "source": [
        "result = model.similarity('reliance','independence')\n",
        "print(result)"
      ]
    },
    {
      "cell_type": "code",
      "execution_count": 23,
      "metadata": {
        "colab": {
          "base_uri": "https://localhost:8080/"
        },
        "id": "gCA8l0XylVcM",
        "outputId": "89339157-8228-494d-ea4a-8aefcfc7465f"
      },
      "outputs": [
        {
          "output_type": "stream",
          "name": "stdout",
          "text": [
            "0.31618136\n"
          ]
        }
      ],
      "source": [
        "result = model.similarity('woman','queen')\n",
        "print(result)"
      ]
    },
    {
      "cell_type": "code",
      "source": [
        "result = model.similarity('lady','queen')\n",
        "print(result)"
      ],
      "metadata": {
        "colab": {
          "base_uri": "https://localhost:8080/"
        },
        "id": "EB9NECND1Tis",
        "outputId": "7033587d-f92d-4e7f-f978-8167a9af947e"
      },
      "execution_count": 24,
      "outputs": [
        {
          "output_type": "stream",
          "name": "stdout",
          "text": [
            "0.46167657\n"
          ]
        }
      ]
    },
    {
      "cell_type": "code",
      "execution_count": 25,
      "metadata": {
        "colab": {
          "base_uri": "https://localhost:8080/"
        },
        "id": "9g0IZFX6vDfG",
        "outputId": "b8b3e154-5683-4b06-ba9c-eea77e4af41d"
      },
      "outputs": [
        {
          "output_type": "stream",
          "name": "stdout",
          "text": [
            "[('girl', 0.8881361484527588)]\n"
          ]
        }
      ],
      "source": [
        "result = model.most_similar(positive=['woman', 'boy'], negative=['man'], topn=1)\n",
        "print(result)"
      ]
    },
    {
      "cell_type": "code",
      "execution_count": 26,
      "metadata": {
        "colab": {
          "base_uri": "https://localhost:8080/"
        },
        "id": "PUkPmrpqvFA3",
        "outputId": "f15db816-23b1-456f-bc46-687e883421bc"
      },
      "outputs": [
        {
          "output_type": "stream",
          "name": "stdout",
          "text": [
            "[('queen', 0.7118193507194519), ('monarch', 0.6189674139022827), ('princess', 0.5902431011199951), ('crown_prince', 0.5499460697174072), ('prince', 0.5377321839332581)]\n"
          ]
        }
      ],
      "source": [
        "result = model.most_similar(positive=['woman', 'king'], negative=['man'], topn=5)\n",
        "print(result)"
      ]
    },
    {
      "cell_type": "code",
      "execution_count": 27,
      "metadata": {
        "colab": {
          "base_uri": "https://localhost:8080/"
        },
        "id": "k8MWy1F0X60E",
        "outputId": "99405cdf-7ed5-4a13-b783-2753563d0edd"
      },
      "outputs": [
        {
          "output_type": "stream",
          "name": "stdout",
          "text": [
            "[('calves', 0.5428146719932556)]\n"
          ]
        }
      ],
      "source": [
        "result = model.most_similar(positive=['child', 'cattle'], negative=['human'], topn=1)\n",
        "print(result)"
      ]
    },
    {
      "cell_type": "code",
      "execution_count": 28,
      "metadata": {
        "colab": {
          "base_uri": "https://localhost:8080/"
        },
        "id": "mKYsM_YcXBdD",
        "outputId": "34cbfcc4-c4c2-4869-aed0-0d435e919099"
      },
      "outputs": [
        {
          "output_type": "stream",
          "name": "stdout",
          "text": [
            "[('terrific', 0.8317594528198242), ('wonderful', 0.804792046546936), ('great', 0.7935212254524231)]\n"
          ]
        }
      ],
      "source": [
        "result = model.most_similar('fantastic',topn=3)\n",
        "print(result)"
      ]
    },
    {
      "cell_type": "code",
      "execution_count": 29,
      "metadata": {
        "colab": {
          "base_uri": "https://localhost:8080/"
        },
        "id": "bMYH-V4ZcnHY",
        "outputId": "5fffcc60-b981-4e3c-f877-f4d98ff18214"
      },
      "outputs": [
        {
          "output_type": "stream",
          "name": "stdout",
          "text": [
            "[('incredible', 0.7799631953239441), ('amazing', 0.7642048597335815), ('fantastic', 0.7392953038215637)]\n"
          ]
        }
      ],
      "source": [
        "result = model.most_similar('phenomenal',topn=3)\n",
        "print(result)"
      ]
    },
    {
      "cell_type": "code",
      "execution_count": 30,
      "metadata": {
        "colab": {
          "base_uri": "https://localhost:8080/"
        },
        "id": "pkeOTr5BbA37",
        "outputId": "3faba5b4-3640-4e11-d2ca-3395b5c2793a"
      },
      "outputs": [
        {
          "output_type": "stream",
          "name": "stdout",
          "text": [
            "0.68157035\n"
          ]
        }
      ],
      "source": [
        "result = model.similarity('lunch','dinner')\n",
        "print(result)"
      ]
    },
    {
      "cell_type": "code",
      "execution_count": null,
      "metadata": {
        "colab": {
          "base_uri": "https://localhost:8080/"
        },
        "id": "Xxtw7tA3bhu1",
        "outputId": "a95adc20-3adb-495a-e475-2d44afd08b08"
      },
      "outputs": [
        {
          "name": "stdout",
          "output_type": "stream",
          "text": [
            "0.35912475\n"
          ]
        }
      ],
      "source": [
        "result = model.similarity('lunch','cook')\n",
        "print(result)"
      ]
    },
    {
      "cell_type": "code",
      "execution_count": null,
      "metadata": {
        "colab": {
          "base_uri": "https://localhost:8080/"
        },
        "id": "3DPMqRwjiOZE",
        "outputId": "12f59e87-da92-471f-dd1f-77ddc57c466d"
      },
      "outputs": [
        {
          "name": "stdout",
          "output_type": "stream",
          "text": [
            "0.31624037\n"
          ]
        }
      ],
      "source": [
        "result = model.similarity('soft','hard')\n",
        "print(result)"
      ]
    },
    {
      "cell_type": "code",
      "execution_count": null,
      "metadata": {
        "colab": {
          "base_uri": "https://localhost:8080/"
        },
        "id": "upgk5PmVjMTT",
        "outputId": "08135aaf-61ea-4536-d460-54234377fe6e"
      },
      "outputs": [
        {
          "name": "stdout",
          "output_type": "stream",
          "text": [
            "0.47083578\n"
          ]
        }
      ],
      "source": [
        "result = model.similarity('pizza','cheese')\n",
        "print(result)"
      ]
    },
    {
      "cell_type": "code",
      "execution_count": null,
      "metadata": {
        "colab": {
          "base_uri": "https://localhost:8080/"
        },
        "id": "akk1jMnKZ5FI",
        "outputId": "b21ada2c-cd57-44da-ed1f-1c7fb192615d"
      },
      "outputs": [
        {
          "name": "stdout",
          "output_type": "stream",
          "text": [
            "0.5172962\n"
          ]
        }
      ],
      "source": [
        "result = model.similarity('tiger','cat')\n",
        "print(result)"
      ]
    },
    {
      "cell_type": "code",
      "execution_count": null,
      "metadata": {
        "colab": {
          "base_uri": "https://localhost:8080/"
        },
        "id": "uFtbWwpmdKNW",
        "outputId": "214d3842-1da5-461d-f68f-794c8b8ef938"
      },
      "outputs": [
        {
          "name": "stdout",
          "output_type": "stream",
          "text": [
            "0.5121041\n"
          ]
        }
      ],
      "source": [
        "result = model.similarity('tiger','lion')\n",
        "print(result)"
      ]
    },
    {
      "cell_type": "code",
      "execution_count": null,
      "metadata": {
        "colab": {
          "base_uri": "https://localhost:8080/"
        },
        "id": "6LhptmV4Z-gg",
        "outputId": "0b9b56c3-d169-488e-9678-f8b1e3baae9c"
      },
      "outputs": [
        {
          "name": "stdout",
          "output_type": "stream",
          "text": [
            "1.2077177551383156\n"
          ]
        }
      ],
      "source": [
        "result = model.wmdistance('lioness','lion')\n",
        "print(result)"
      ]
    },
    {
      "cell_type": "code",
      "execution_count": null,
      "metadata": {
        "colab": {
          "base_uri": "https://localhost:8080/"
        },
        "id": "AWvFafu70osp",
        "outputId": "7dfe7c84-96dd-41bb-ebd8-8640147366f5"
      },
      "outputs": [
        {
          "name": "stdout",
          "output_type": "stream",
          "text": [
            "1.9931940170335567\n"
          ]
        }
      ],
      "source": [
        "result = model.wmdistance('lion','cow')\n",
        "print(result)"
      ]
    }
  ],
  "metadata": {
    "colab": {
      "provenance": []
    },
    "kernelspec": {
      "display_name": "Python 3",
      "name": "python3"
    }
  },
  "nbformat": 4,
  "nbformat_minor": 0
}