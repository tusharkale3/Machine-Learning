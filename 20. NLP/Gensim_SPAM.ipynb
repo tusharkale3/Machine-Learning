{
  "nbformat": 4,
  "nbformat_minor": 0,
  "metadata": {
    "colab": {
      "provenance": []
    },
    "kernelspec": {
      "name": "python3",
      "display_name": "Python 3"
    }
  },
  "cells": [
    {
      "cell_type": "code",
      "metadata": {
        "id": "-6GJ_XJZaCI4"
      },
      "source": [
        "#!pip install gensim==3.6.0"
      ],
      "execution_count": null,
      "outputs": []
    },
    {
      "cell_type": "code",
      "metadata": {
        "id": "KkOncD7ICJcW",
        "colab": {
          "base_uri": "https://localhost:8080/",
          "height": 36
        },
        "outputId": "c2f13697-88f3-49b6-91ac-66c824efc158"
      },
      "source": [
        "import gensim\n",
        "gensim.__version__"
      ],
      "execution_count": null,
      "outputs": [
        {
          "output_type": "execute_result",
          "data": {
            "text/plain": [
              "'3.6.0'"
            ],
            "application/vnd.google.colaboratory.intrinsic+json": {
              "type": "string"
            }
          },
          "metadata": {},
          "execution_count": 1
        }
      ]
    },
    {
      "cell_type": "code",
      "metadata": {
        "colab": {
          "base_uri": "https://localhost:8080/"
        },
        "id": "c-NKqjA9Ym3w",
        "outputId": "ee237b1a-ae16-4912-e4c0-7527c9490afc"
      },
      "source": [
        "from google.colab import drive\n",
        "drive.mount('/content/drive')"
      ],
      "execution_count": null,
      "outputs": [
        {
          "output_type": "stream",
          "name": "stdout",
          "text": [
            "Drive already mounted at /content/drive; to attempt to forcibly remount, call drive.mount(\"/content/drive\", force_remount=True).\n"
          ]
        }
      ]
    },
    {
      "cell_type": "code",
      "metadata": {
        "id": "SfKopLFUaYaN"
      },
      "source": [
        "import os\n",
        "os.chdir(\"/content/drive/MyDrive/Datasets\")"
      ],
      "execution_count": null,
      "outputs": []
    },
    {
      "cell_type": "code",
      "metadata": {
        "id": "QsHphri7alc0"
      },
      "source": [
        "import numpy as np\n",
        "import re\n",
        "import nltk\n",
        "import pandas as pd\n",
        "from nltk.corpus import stopwords\n",
        "from gensim.models import  Word2Vec\n",
        "from sklearn.model_selection import StratifiedKFold, GridSearchCV\n",
        "from sklearn.metrics import roc_auc_score"
      ],
      "execution_count": null,
      "outputs": []
    },
    {
      "cell_type": "code",
      "metadata": {
        "id": "seOMxR8SaxVd"
      },
      "source": [
        "dataset = pd.read_csv('SPAM.csv')"
      ],
      "execution_count": null,
      "outputs": []
    },
    {
      "cell_type": "code",
      "metadata": {
        "id": "DnOPA_ISNtDK",
        "colab": {
          "base_uri": "https://localhost:8080/",
          "height": 206
        },
        "outputId": "182c6c03-a881-4afe-e879-12b8c3ac9f0b"
      },
      "source": [
        "dataset.head()"
      ],
      "execution_count": null,
      "outputs": [
        {
          "output_type": "execute_result",
          "data": {
            "text/plain": [
              "  Category                                            Message\n",
              "0      ham  Go until jurong point, crazy.. Available only ...\n",
              "1      ham                      Ok lar... Joking wif u oni...\n",
              "2     spam  Free entry in 2 a wkly comp to win FA Cup fina...\n",
              "3      ham  U dun say so early hor... U c already then say...\n",
              "4      ham  Nah I don't think he goes to usf, he lives aro..."
            ],
            "text/html": [
              "\n",
              "  <div id=\"df-93dccc49-82b3-4b85-bb35-cb9db51f6a9d\">\n",
              "    <div class=\"colab-df-container\">\n",
              "      <div>\n",
              "<style scoped>\n",
              "    .dataframe tbody tr th:only-of-type {\n",
              "        vertical-align: middle;\n",
              "    }\n",
              "\n",
              "    .dataframe tbody tr th {\n",
              "        vertical-align: top;\n",
              "    }\n",
              "\n",
              "    .dataframe thead th {\n",
              "        text-align: right;\n",
              "    }\n",
              "</style>\n",
              "<table border=\"1\" class=\"dataframe\">\n",
              "  <thead>\n",
              "    <tr style=\"text-align: right;\">\n",
              "      <th></th>\n",
              "      <th>Category</th>\n",
              "      <th>Message</th>\n",
              "    </tr>\n",
              "  </thead>\n",
              "  <tbody>\n",
              "    <tr>\n",
              "      <th>0</th>\n",
              "      <td>ham</td>\n",
              "      <td>Go until jurong point, crazy.. Available only ...</td>\n",
              "    </tr>\n",
              "    <tr>\n",
              "      <th>1</th>\n",
              "      <td>ham</td>\n",
              "      <td>Ok lar... Joking wif u oni...</td>\n",
              "    </tr>\n",
              "    <tr>\n",
              "      <th>2</th>\n",
              "      <td>spam</td>\n",
              "      <td>Free entry in 2 a wkly comp to win FA Cup fina...</td>\n",
              "    </tr>\n",
              "    <tr>\n",
              "      <th>3</th>\n",
              "      <td>ham</td>\n",
              "      <td>U dun say so early hor... U c already then say...</td>\n",
              "    </tr>\n",
              "    <tr>\n",
              "      <th>4</th>\n",
              "      <td>ham</td>\n",
              "      <td>Nah I don't think he goes to usf, he lives aro...</td>\n",
              "    </tr>\n",
              "  </tbody>\n",
              "</table>\n",
              "</div>\n",
              "      <button class=\"colab-df-convert\" onclick=\"convertToInteractive('df-93dccc49-82b3-4b85-bb35-cb9db51f6a9d')\"\n",
              "              title=\"Convert this dataframe to an interactive table.\"\n",
              "              style=\"display:none;\">\n",
              "        \n",
              "  <svg xmlns=\"http://www.w3.org/2000/svg\" height=\"24px\"viewBox=\"0 0 24 24\"\n",
              "       width=\"24px\">\n",
              "    <path d=\"M0 0h24v24H0V0z\" fill=\"none\"/>\n",
              "    <path d=\"M18.56 5.44l.94 2.06.94-2.06 2.06-.94-2.06-.94-.94-2.06-.94 2.06-2.06.94zm-11 1L8.5 8.5l.94-2.06 2.06-.94-2.06-.94L8.5 2.5l-.94 2.06-2.06.94zm10 10l.94 2.06.94-2.06 2.06-.94-2.06-.94-.94-2.06-.94 2.06-2.06.94z\"/><path d=\"M17.41 7.96l-1.37-1.37c-.4-.4-.92-.59-1.43-.59-.52 0-1.04.2-1.43.59L10.3 9.45l-7.72 7.72c-.78.78-.78 2.05 0 2.83L4 21.41c.39.39.9.59 1.41.59.51 0 1.02-.2 1.41-.59l7.78-7.78 2.81-2.81c.8-.78.8-2.07 0-2.86zM5.41 20L4 18.59l7.72-7.72 1.47 1.35L5.41 20z\"/>\n",
              "  </svg>\n",
              "      </button>\n",
              "      \n",
              "  <style>\n",
              "    .colab-df-container {\n",
              "      display:flex;\n",
              "      flex-wrap:wrap;\n",
              "      gap: 12px;\n",
              "    }\n",
              "\n",
              "    .colab-df-convert {\n",
              "      background-color: #E8F0FE;\n",
              "      border: none;\n",
              "      border-radius: 50%;\n",
              "      cursor: pointer;\n",
              "      display: none;\n",
              "      fill: #1967D2;\n",
              "      height: 32px;\n",
              "      padding: 0 0 0 0;\n",
              "      width: 32px;\n",
              "    }\n",
              "\n",
              "    .colab-df-convert:hover {\n",
              "      background-color: #E2EBFA;\n",
              "      box-shadow: 0px 1px 2px rgba(60, 64, 67, 0.3), 0px 1px 3px 1px rgba(60, 64, 67, 0.15);\n",
              "      fill: #174EA6;\n",
              "    }\n",
              "\n",
              "    [theme=dark] .colab-df-convert {\n",
              "      background-color: #3B4455;\n",
              "      fill: #D2E3FC;\n",
              "    }\n",
              "\n",
              "    [theme=dark] .colab-df-convert:hover {\n",
              "      background-color: #434B5C;\n",
              "      box-shadow: 0px 1px 3px 1px rgba(0, 0, 0, 0.15);\n",
              "      filter: drop-shadow(0px 1px 2px rgba(0, 0, 0, 0.3));\n",
              "      fill: #FFFFFF;\n",
              "    }\n",
              "  </style>\n",
              "\n",
              "      <script>\n",
              "        const buttonEl =\n",
              "          document.querySelector('#df-93dccc49-82b3-4b85-bb35-cb9db51f6a9d button.colab-df-convert');\n",
              "        buttonEl.style.display =\n",
              "          google.colab.kernel.accessAllowed ? 'block' : 'none';\n",
              "\n",
              "        async function convertToInteractive(key) {\n",
              "          const element = document.querySelector('#df-93dccc49-82b3-4b85-bb35-cb9db51f6a9d');\n",
              "          const dataTable =\n",
              "            await google.colab.kernel.invokeFunction('convertToInteractive',\n",
              "                                                     [key], {});\n",
              "          if (!dataTable) return;\n",
              "\n",
              "          const docLinkHtml = 'Like what you see? Visit the ' +\n",
              "            '<a target=\"_blank\" href=https://colab.research.google.com/notebooks/data_table.ipynb>data table notebook</a>'\n",
              "            + ' to learn more about interactive tables.';\n",
              "          element.innerHTML = '';\n",
              "          dataTable['output_type'] = 'display_data';\n",
              "          await google.colab.output.renderOutput(dataTable, element);\n",
              "          const docLink = document.createElement('div');\n",
              "          docLink.innerHTML = docLinkHtml;\n",
              "          element.appendChild(docLink);\n",
              "        }\n",
              "      </script>\n",
              "    </div>\n",
              "  </div>\n",
              "  "
            ]
          },
          "metadata": {},
          "execution_count": 7
        }
      ]
    },
    {
      "cell_type": "code",
      "metadata": {
        "id": "BMUdO52Daz7p"
      },
      "source": [
        "################### Replacing Apostrophe to Word #################\n",
        "def decontracted(phrase):\n",
        "    # specific\n",
        "    phrase = re.sub(r\"won\\'t\", \"will not\", phrase)\n",
        "    phrase = re.sub(r\"can\\'t\", \"can not\", phrase)\n",
        "    phrase = re.sub(r\"don\\'t\", \"do not\", phrase)\n",
        "    # general\n",
        "    phrase = re.sub(r\"n\\'t\", \" not\", phrase)\n",
        "    phrase = re.sub(r\"\\'re\", \" are\", phrase)\n",
        "    phrase = re.sub(r\"\\'s\", \" is\", phrase)\n",
        "    phrase = re.sub(r\"\\'d\", \" would\", phrase)\n",
        "    phrase = re.sub(r\"\\'ll\", \" will\", phrase)\n",
        "    phrase = re.sub(r\"\\'t\", \" not\", phrase)\n",
        "    phrase = re.sub(r\"\\'ve\", \" have\", phrase)\n",
        "    phrase = re.sub(r\"\\'m\", \" am\", phrase)\n",
        "    return phrase\n",
        "###################################################################"
      ],
      "execution_count": null,
      "outputs": []
    },
    {
      "cell_type": "code",
      "source": [
        "y = np.where(dataset['Category']==\"spam\",1,0)"
      ],
      "metadata": {
        "id": "fPVoRzEfWfB4"
      },
      "execution_count": null,
      "outputs": []
    },
    {
      "cell_type": "code",
      "source": [
        "y"
      ],
      "metadata": {
        "colab": {
          "base_uri": "https://localhost:8080/"
        },
        "id": "EZQOXGJvYUkD",
        "outputId": "33edebf0-e4ff-412f-aff3-e9e74b104c91"
      },
      "execution_count": null,
      "outputs": [
        {
          "output_type": "execute_result",
          "data": {
            "text/plain": [
              "array([0, 0, 1, ..., 0, 0, 0])"
            ]
          },
          "metadata": {},
          "execution_count": 69
        }
      ]
    },
    {
      "cell_type": "code",
      "source": [
        "nltk.download('stopwords')"
      ],
      "metadata": {
        "colab": {
          "base_uri": "https://localhost:8080/"
        },
        "id": "cTodyLPsPDcC",
        "outputId": "a9d4e573-3f7c-42d1-acad-981f7fe3af18"
      },
      "execution_count": null,
      "outputs": [
        {
          "output_type": "stream",
          "name": "stderr",
          "text": [
            "[nltk_data] Downloading package stopwords to /root/nltk_data...\n",
            "[nltk_data]   Unzipping corpora/stopwords.zip.\n"
          ]
        },
        {
          "output_type": "execute_result",
          "data": {
            "text/plain": [
              "True"
            ]
          },
          "metadata": {},
          "execution_count": 11
        }
      ]
    },
    {
      "cell_type": "code",
      "source": [
        "stops = stopwords.words('english')"
      ],
      "metadata": {
        "id": "foZ1awsAO_M3"
      },
      "execution_count": null,
      "outputs": []
    },
    {
      "cell_type": "code",
      "metadata": {
        "id": "htHzYQJba81x"
      },
      "source": [
        "corpus = []\n",
        "for i in range(0, dataset.shape[0]):\n",
        "    review = dataset['Message'][i]\n",
        "    review = decontracted(review)\n",
        "    review = re.sub('[^a-zA-Z]', ' ', review)\n",
        "    review = review.lower()\n",
        "#    ps = PorterStemmer()\n",
        "    review = review.split()\n",
        "#    review = [word for word in review if not word in set(stops)]\n",
        "#    review = ' '.join(review)\n",
        "#    review = [review]\n",
        "    if review == []:\n",
        "      review = [\"anything\"]\n",
        "    corpus.append(review)"
      ],
      "execution_count": null,
      "outputs": []
    },
    {
      "cell_type": "code",
      "metadata": {
        "id": "MrCCYZP7OL_C",
        "colab": {
          "base_uri": "https://localhost:8080/"
        },
        "outputId": "21df8ce8-0f0b-4f47-cc79-5556f8030637"
      },
      "source": [
        "len(corpus)"
      ],
      "execution_count": null,
      "outputs": [
        {
          "output_type": "execute_result",
          "data": {
            "text/plain": [
              "5572"
            ]
          },
          "metadata": {},
          "execution_count": 14
        }
      ]
    },
    {
      "cell_type": "code",
      "source": [
        "len(corpus)"
      ],
      "metadata": {
        "colab": {
          "base_uri": "https://localhost:8080/"
        },
        "id": "7_4XFrCfW3uu",
        "outputId": "1ed4ffbd-ed64-41fe-8413-438980077cc7"
      },
      "execution_count": null,
      "outputs": [
        {
          "output_type": "execute_result",
          "data": {
            "text/plain": [
              "5572"
            ]
          },
          "metadata": {},
          "execution_count": 16
        }
      ]
    },
    {
      "cell_type": "markdown",
      "metadata": {
        "id": "lQQr-KsTbYe6"
      },
      "source": [
        "CBOW: sg = 0\n",
        "Skip-Gram: sg = 1"
      ]
    },
    {
      "cell_type": "code",
      "metadata": {
        "id": "91FeES40bUN0"
      },
      "source": [
        "model_r =  Word2Vec(corpus, min_count=1,sg=0)"
      ],
      "execution_count": null,
      "outputs": []
    },
    {
      "cell_type": "code",
      "metadata": {
        "id": "T5VxV-NoblXK",
        "colab": {
          "base_uri": "https://localhost:8080/"
        },
        "outputId": "c542f831-4c3e-4dcc-91d2-535793da52bf"
      },
      "source": [
        "means = []\n",
        "for i in corpus :\n",
        "    if i != []:\n",
        "      row_means = np.mean(model_r[i],axis=0)\n",
        "      means.append(row_means)\n",
        "means = np.array(means)\n",
        "\n",
        "X = means\n"
      ],
      "execution_count": null,
      "outputs": [
        {
          "output_type": "stream",
          "name": "stderr",
          "text": [
            "<ipython-input-18-9e1505a289ed>:4: DeprecationWarning: Call to deprecated `__getitem__` (Method will be removed in 4.0.0, use self.wv.__getitem__() instead).\n",
            "  row_means = np.mean(model_r[i],axis=0)\n"
          ]
        }
      ]
    },
    {
      "cell_type": "code",
      "source": [
        "X.shape"
      ],
      "metadata": {
        "colab": {
          "base_uri": "https://localhost:8080/"
        },
        "id": "ieF9h99OXC0f",
        "outputId": "53e1927a-de3f-4ca4-ae18-c07026b5fd49"
      },
      "execution_count": null,
      "outputs": [
        {
          "output_type": "execute_result",
          "data": {
            "text/plain": [
              "(5572, 100)"
            ]
          },
          "metadata": {},
          "execution_count": 19
        }
      ]
    },
    {
      "cell_type": "code",
      "metadata": {
        "id": "eioGC1w5btA6",
        "colab": {
          "base_uri": "https://localhost:8080/"
        },
        "outputId": "d8f5dbae-07dd-4646-c484-bfb0cdf4160f"
      },
      "source": [
        "X.shape"
      ],
      "execution_count": null,
      "outputs": [
        {
          "output_type": "execute_result",
          "data": {
            "text/plain": [
              "(5572, 100)"
            ]
          },
          "metadata": {},
          "execution_count": 20
        }
      ]
    },
    {
      "cell_type": "code",
      "metadata": {
        "id": "0x-OFwRBbu2i",
        "colab": {
          "base_uri": "https://localhost:8080/"
        },
        "outputId": "3f5e8188-e35a-41ea-915a-99b261dcfade"
      },
      "source": [
        "y.shape"
      ],
      "execution_count": null,
      "outputs": [
        {
          "output_type": "execute_result",
          "data": {
            "text/plain": [
              "(5572,)"
            ]
          },
          "metadata": {},
          "execution_count": 21
        }
      ]
    },
    {
      "cell_type": "code",
      "metadata": {
        "id": "47c2C1sSbz5V",
        "colab": {
          "base_uri": "https://localhost:8080/"
        },
        "outputId": "52d8e7a6-d593-4274-fc78-96d0a7996f78"
      },
      "source": [
        "from sklearn.model_selection import train_test_split\n",
        "from sklearn.metrics import confusion_matrix\n",
        "from sklearn.metrics import classification_report, accuracy_score\n",
        "\n",
        "\n",
        "X_train, X_test, y_train, y_test = train_test_split(X, y,test_size = 0.3,\n",
        "                                                    random_state=2022,\n",
        "                                                    stratify=y)\n",
        "\n",
        "from xgboost import XGBClassifier\n",
        "model_rf = XGBClassifier(random_state=2022,oob_score=True)\n",
        "model_rf.fit( X_train , y_train )"
      ],
      "execution_count": null,
      "outputs": [
        {
          "output_type": "execute_result",
          "data": {
            "text/plain": [
              "XGBClassifier(oob_score=True, random_state=2022)"
            ]
          },
          "metadata": {},
          "execution_count": 22
        }
      ]
    },
    {
      "cell_type": "markdown",
      "metadata": {
        "id": "YxizNzpUb9nY"
      },
      "source": [
        "**Model Evaluation**\n"
      ]
    },
    {
      "cell_type": "code",
      "metadata": {
        "id": "djEfF_4xb24y",
        "colab": {
          "base_uri": "https://localhost:8080/"
        },
        "outputId": "fff2ebd5-a38b-4f5c-f5d2-a5b9b6baf807"
      },
      "source": [
        "y_pred_prob = model_rf.predict_proba(X_test)[:,1]\n",
        "\n",
        "print(roc_auc_score(y_test, y_pred_prob))"
      ],
      "execution_count": null,
      "outputs": [
        {
          "output_type": "stream",
          "name": "stdout",
          "text": [
            "0.9744968429360694\n"
          ]
        }
      ]
    },
    {
      "cell_type": "code",
      "metadata": {
        "id": "qr3xm6E0cCii"
      },
      "source": [],
      "execution_count": null,
      "outputs": []
    },
    {
      "cell_type": "markdown",
      "source": [
        "#### Grid Search CV"
      ],
      "metadata": {
        "id": "ev55m-VVZKyF"
      }
    },
    {
      "cell_type": "code",
      "metadata": {
        "colab": {
          "base_uri": "https://localhost:8080/"
        },
        "outputId": "6695f032-8608-424e-c6e2-c307c52870a1",
        "id": "5V1mZzvmfTWJ"
      },
      "source": [
        "kfold = StratifiedKFold(n_splits=5, shuffle=True, random_state=2022)\n",
        "model_xgb = XGBClassifier(random_state=2022)\n",
        "print(model_xgb.get_params())"
      ],
      "execution_count": null,
      "outputs": [
        {
          "output_type": "stream",
          "name": "stdout",
          "text": [
            "{'base_score': 0.5, 'booster': 'gbtree', 'colsample_bylevel': 1, 'colsample_bynode': 1, 'colsample_bytree': 1, 'gamma': 0, 'learning_rate': 0.1, 'max_delta_step': 0, 'max_depth': 3, 'min_child_weight': 1, 'missing': None, 'n_estimators': 100, 'n_jobs': 1, 'nthread': None, 'objective': 'binary:logistic', 'random_state': 2022, 'reg_alpha': 0, 'reg_lambda': 1, 'scale_pos_weight': 1, 'seed': None, 'silent': None, 'subsample': 1, 'verbosity': 1}\n"
          ]
        }
      ]
    },
    {
      "cell_type": "code",
      "source": [
        "params = {'learning_rate':[0.01, 0.1, 0.2, 0.5],\n",
        "          'max_depth':[3, 6], 'n_estimators':[50, 100]}\n",
        "gcv = GridSearchCV(model_xgb, param_grid=params, cv=kfold, scoring='roc_auc', verbose=3)\n",
        "gcv.fit(X, y)"
      ],
      "metadata": {
        "colab": {
          "base_uri": "https://localhost:8080/"
        },
        "id": "xwDOA5ZgZrgR",
        "outputId": "491a413d-7a1e-4755-d066-7e82a2d7d97c"
      },
      "execution_count": null,
      "outputs": [
        {
          "output_type": "stream",
          "name": "stdout",
          "text": [
            "Fitting 5 folds for each of 16 candidates, totalling 80 fits\n",
            "[CV 1/5] END learning_rate=0.01, max_depth=3, n_estimators=50;, score=0.953 total time=   1.4s\n",
            "[CV 2/5] END learning_rate=0.01, max_depth=3, n_estimators=50;, score=0.944 total time=   1.3s\n",
            "[CV 3/5] END learning_rate=0.01, max_depth=3, n_estimators=50;, score=0.971 total time=   1.4s\n",
            "[CV 4/5] END learning_rate=0.01, max_depth=3, n_estimators=50;, score=0.940 total time=   1.3s\n",
            "[CV 5/5] END learning_rate=0.01, max_depth=3, n_estimators=50;, score=0.972 total time=   1.3s\n",
            "[CV 1/5] END learning_rate=0.01, max_depth=3, n_estimators=100;, score=0.962 total time=   2.6s\n",
            "[CV 2/5] END learning_rate=0.01, max_depth=3, n_estimators=100;, score=0.945 total time=   2.6s\n",
            "[CV 3/5] END learning_rate=0.01, max_depth=3, n_estimators=100;, score=0.973 total time=   2.6s\n",
            "[CV 4/5] END learning_rate=0.01, max_depth=3, n_estimators=100;, score=0.943 total time=   2.6s\n",
            "[CV 5/5] END learning_rate=0.01, max_depth=3, n_estimators=100;, score=0.975 total time=   2.6s\n",
            "[CV 1/5] END learning_rate=0.01, max_depth=6, n_estimators=50;, score=0.961 total time=   2.3s\n",
            "[CV 2/5] END learning_rate=0.01, max_depth=6, n_estimators=50;, score=0.954 total time=   2.2s\n",
            "[CV 3/5] END learning_rate=0.01, max_depth=6, n_estimators=50;, score=0.973 total time=   2.3s\n",
            "[CV 4/5] END learning_rate=0.01, max_depth=6, n_estimators=50;, score=0.957 total time=   2.3s\n",
            "[CV 5/5] END learning_rate=0.01, max_depth=6, n_estimators=50;, score=0.975 total time=   2.3s\n",
            "[CV 1/5] END learning_rate=0.01, max_depth=6, n_estimators=100;, score=0.959 total time=   4.6s\n",
            "[CV 2/5] END learning_rate=0.01, max_depth=6, n_estimators=100;, score=0.956 total time=   4.5s\n",
            "[CV 3/5] END learning_rate=0.01, max_depth=6, n_estimators=100;, score=0.977 total time=   4.6s\n",
            "[CV 4/5] END learning_rate=0.01, max_depth=6, n_estimators=100;, score=0.963 total time=   4.5s\n",
            "[CV 5/5] END learning_rate=0.01, max_depth=6, n_estimators=100;, score=0.978 total time=   4.6s\n",
            "[CV 1/5] END learning_rate=0.1, max_depth=3, n_estimators=50;, score=0.971 total time=   1.4s\n",
            "[CV 2/5] END learning_rate=0.1, max_depth=3, n_estimators=50;, score=0.960 total time=   1.4s\n",
            "[CV 3/5] END learning_rate=0.1, max_depth=3, n_estimators=50;, score=0.976 total time=   1.4s\n",
            "[CV 4/5] END learning_rate=0.1, max_depth=3, n_estimators=50;, score=0.966 total time=   1.4s\n",
            "[CV 5/5] END learning_rate=0.1, max_depth=3, n_estimators=50;, score=0.980 total time=   1.4s\n",
            "[CV 1/5] END learning_rate=0.1, max_depth=3, n_estimators=100;, score=0.974 total time=   3.7s\n",
            "[CV 2/5] END learning_rate=0.1, max_depth=3, n_estimators=100;, score=0.966 total time=   3.2s\n",
            "[CV 3/5] END learning_rate=0.1, max_depth=3, n_estimators=100;, score=0.980 total time=   2.7s\n",
            "[CV 4/5] END learning_rate=0.1, max_depth=3, n_estimators=100;, score=0.969 total time=   2.7s\n",
            "[CV 5/5] END learning_rate=0.1, max_depth=3, n_estimators=100;, score=0.983 total time=   2.7s\n",
            "[CV 1/5] END learning_rate=0.1, max_depth=6, n_estimators=50;, score=0.974 total time=   2.4s\n",
            "[CV 2/5] END learning_rate=0.1, max_depth=6, n_estimators=50;, score=0.969 total time=   2.4s\n",
            "[CV 3/5] END learning_rate=0.1, max_depth=6, n_estimators=50;, score=0.981 total time=   2.5s\n",
            "[CV 4/5] END learning_rate=0.1, max_depth=6, n_estimators=50;, score=0.967 total time=   2.4s\n",
            "[CV 5/5] END learning_rate=0.1, max_depth=6, n_estimators=50;, score=0.982 total time=   2.4s\n",
            "[CV 1/5] END learning_rate=0.1, max_depth=6, n_estimators=100;, score=0.973 total time=   4.9s\n",
            "[CV 2/5] END learning_rate=0.1, max_depth=6, n_estimators=100;, score=0.969 total time=   4.8s\n",
            "[CV 3/5] END learning_rate=0.1, max_depth=6, n_estimators=100;, score=0.982 total time=   5.0s\n",
            "[CV 4/5] END learning_rate=0.1, max_depth=6, n_estimators=100;, score=0.970 total time=   4.9s\n",
            "[CV 5/5] END learning_rate=0.1, max_depth=6, n_estimators=100;, score=0.983 total time=   4.8s\n",
            "[CV 1/5] END learning_rate=0.2, max_depth=3, n_estimators=50;, score=0.975 total time=   1.4s\n",
            "[CV 2/5] END learning_rate=0.2, max_depth=3, n_estimators=50;, score=0.971 total time=   1.3s\n",
            "[CV 3/5] END learning_rate=0.2, max_depth=3, n_estimators=50;, score=0.981 total time=   1.4s\n",
            "[CV 4/5] END learning_rate=0.2, max_depth=3, n_estimators=50;, score=0.968 total time=   1.4s\n",
            "[CV 5/5] END learning_rate=0.2, max_depth=3, n_estimators=50;, score=0.985 total time=   1.4s\n",
            "[CV 1/5] END learning_rate=0.2, max_depth=3, n_estimators=100;, score=0.976 total time=   2.7s\n",
            "[CV 2/5] END learning_rate=0.2, max_depth=3, n_estimators=100;, score=0.973 total time=   2.6s\n",
            "[CV 3/5] END learning_rate=0.2, max_depth=3, n_estimators=100;, score=0.982 total time=   2.7s\n",
            "[CV 4/5] END learning_rate=0.2, max_depth=3, n_estimators=100;, score=0.972 total time=   2.7s\n",
            "[CV 5/5] END learning_rate=0.2, max_depth=3, n_estimators=100;, score=0.984 total time=   2.7s\n",
            "[CV 1/5] END learning_rate=0.2, max_depth=6, n_estimators=50;, score=0.972 total time=   2.4s\n",
            "[CV 2/5] END learning_rate=0.2, max_depth=6, n_estimators=50;, score=0.970 total time=   2.4s\n",
            "[CV 3/5] END learning_rate=0.2, max_depth=6, n_estimators=50;, score=0.982 total time=   2.5s\n",
            "[CV 4/5] END learning_rate=0.2, max_depth=6, n_estimators=50;, score=0.969 total time=   2.4s\n",
            "[CV 5/5] END learning_rate=0.2, max_depth=6, n_estimators=50;, score=0.983 total time=   2.5s\n",
            "[CV 1/5] END learning_rate=0.2, max_depth=6, n_estimators=100;, score=0.973 total time=   6.6s\n",
            "[CV 2/5] END learning_rate=0.2, max_depth=6, n_estimators=100;, score=0.969 total time=   6.3s\n",
            "[CV 3/5] END learning_rate=0.2, max_depth=6, n_estimators=100;, score=0.981 total time=   4.8s\n",
            "[CV 4/5] END learning_rate=0.2, max_depth=6, n_estimators=100;, score=0.971 total time=   4.8s\n",
            "[CV 5/5] END learning_rate=0.2, max_depth=6, n_estimators=100;, score=0.986 total time=   4.9s\n",
            "[CV 1/5] END learning_rate=0.5, max_depth=3, n_estimators=50;, score=0.971 total time=   1.4s\n",
            "[CV 2/5] END learning_rate=0.5, max_depth=3, n_estimators=50;, score=0.967 total time=   1.4s\n",
            "[CV 3/5] END learning_rate=0.5, max_depth=3, n_estimators=50;, score=0.982 total time=   1.4s\n",
            "[CV 4/5] END learning_rate=0.5, max_depth=3, n_estimators=50;, score=0.972 total time=   1.4s\n",
            "[CV 5/5] END learning_rate=0.5, max_depth=3, n_estimators=50;, score=0.986 total time=   1.4s\n",
            "[CV 1/5] END learning_rate=0.5, max_depth=3, n_estimators=100;, score=0.971 total time=   2.7s\n",
            "[CV 2/5] END learning_rate=0.5, max_depth=3, n_estimators=100;, score=0.965 total time=   2.6s\n",
            "[CV 3/5] END learning_rate=0.5, max_depth=3, n_estimators=100;, score=0.983 total time=   2.6s\n",
            "[CV 4/5] END learning_rate=0.5, max_depth=3, n_estimators=100;, score=0.974 total time=   2.6s\n",
            "[CV 5/5] END learning_rate=0.5, max_depth=3, n_estimators=100;, score=0.985 total time=   2.6s\n",
            "[CV 1/5] END learning_rate=0.5, max_depth=6, n_estimators=50;, score=0.974 total time=   2.4s\n",
            "[CV 2/5] END learning_rate=0.5, max_depth=6, n_estimators=50;, score=0.967 total time=   2.3s\n",
            "[CV 3/5] END learning_rate=0.5, max_depth=6, n_estimators=50;, score=0.980 total time=   2.4s\n",
            "[CV 4/5] END learning_rate=0.5, max_depth=6, n_estimators=50;, score=0.971 total time=   2.3s\n",
            "[CV 5/5] END learning_rate=0.5, max_depth=6, n_estimators=50;, score=0.985 total time=   2.4s\n",
            "[CV 1/5] END learning_rate=0.5, max_depth=6, n_estimators=100;, score=0.972 total time=   4.2s\n",
            "[CV 2/5] END learning_rate=0.5, max_depth=6, n_estimators=100;, score=0.965 total time=   4.2s\n",
            "[CV 3/5] END learning_rate=0.5, max_depth=6, n_estimators=100;, score=0.978 total time=   4.2s\n",
            "[CV 4/5] END learning_rate=0.5, max_depth=6, n_estimators=100;, score=0.971 total time=   4.2s\n",
            "[CV 5/5] END learning_rate=0.5, max_depth=6, n_estimators=100;, score=0.985 total time=   4.3s\n"
          ]
        },
        {
          "output_type": "execute_result",
          "data": {
            "text/plain": [
              "GridSearchCV(cv=StratifiedKFold(n_splits=5, random_state=2022, shuffle=True),\n",
              "             estimator=XGBClassifier(random_state=2022),\n",
              "             param_grid={'learning_rate': [0.01, 0.1, 0.2, 0.5],\n",
              "                         'max_depth': [3, 6], 'n_estimators': [50, 100]},\n",
              "             scoring='roc_auc', verbose=3)"
            ]
          },
          "metadata": {},
          "execution_count": 25
        }
      ]
    },
    {
      "cell_type": "code",
      "source": [
        "print(gcv.best_params_)"
      ],
      "metadata": {
        "colab": {
          "base_uri": "https://localhost:8080/"
        },
        "id": "GTc_YDIEaZyV",
        "outputId": "3c86bc7c-7a0f-433b-84af-1ee1346c9123"
      },
      "execution_count": null,
      "outputs": [
        {
          "output_type": "stream",
          "name": "stdout",
          "text": [
            "{'learning_rate': 0.2, 'max_depth': 3, 'n_estimators': 100}\n"
          ]
        }
      ]
    },
    {
      "cell_type": "code",
      "source": [
        "print(gcv.best_score_)"
      ],
      "metadata": {
        "colab": {
          "base_uri": "https://localhost:8080/"
        },
        "id": "bIc-MndWaieb",
        "outputId": "e290116a-b56b-4f59-b7a1-2411687ba7c9"
      },
      "execution_count": null,
      "outputs": [
        {
          "output_type": "stream",
          "name": "stdout",
          "text": [
            "0.9772476127551553\n"
          ]
        }
      ]
    }
  ]
}